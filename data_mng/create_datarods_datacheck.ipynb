{
 "cells": [
  {
   "cell_type": "code",
   "execution_count": 1,
   "metadata": {},
   "outputs": [],
   "source": [
    "# Unzip outputs\n",
    "import os"
   ]
  },
  {
   "cell_type": "code",
   "execution_count": 5,
   "metadata": {},
   "outputs": [],
   "source": [
    "def check_files_existence(data_dir, variable_name):\n",
    "    _data_dir = os.path.join(data_dir, variable_name)\n",
    "    for x in range(0, 406):\n",
    "        for y in range(0, 964):\n",
    "            filename = f'{variable_name}_{x:03}_{y:03}.csv'\n",
    "            if not os.path.isfile(os.path.join(_data_dir, filename)):\n",
    "                print(f\"File {filename} is missing.\")\n",
    "            else:\n",
    "                None"
   ]
  },
  {
   "cell_type": "code",
   "execution_count": 9,
   "metadata": {},
   "outputs": [],
   "source": [
    "if __name__ == \"__main__\":\n",
    "    data_dir = rf\"/home/waves/projects/smap-drydown/data/datarods/\"\n",
    "    check_files_existence(data_dir=data_dir, variable_name = \"PET\")"
   ]
  },
  {
   "cell_type": "code",
   "execution_count": null,
   "metadata": {},
   "outputs": [],
   "source": [
    "if __name__ == \"__main__\":\n",
    "    data_dir = f\"/home/waves/projects/smap-drydown/data/datarods/\"\n",
    "    check_files_existence(data_dir=data_dir, variable_name = \"SPL3SMP\")"
   ]
  },
  {
   "cell_type": "code",
   "execution_count": 28,
   "metadata": {},
   "outputs": [],
   "source": [
    "import pandas as pd\n",
    "filename = \"/home/waves/projects/smap-drydown/data/datarods/PET/PET_110_744.csv\"\n",
    "df = pd.read_csv(filename)"
   ]
  },
  {
   "cell_type": "code",
   "execution_count": 29,
   "metadata": {},
   "outputs": [
    {
     "data": {
      "text/html": [
       "<div>\n",
       "<style scoped>\n",
       "    .dataframe tbody tr th:only-of-type {\n",
       "        vertical-align: middle;\n",
       "    }\n",
       "\n",
       "    .dataframe tbody tr th {\n",
       "        vertical-align: top;\n",
       "    }\n",
       "\n",
       "    .dataframe thead th {\n",
       "        text-align: right;\n",
       "    }\n",
       "</style>\n",
       "<table border=\"1\" class=\"dataframe\">\n",
       "  <thead>\n",
       "    <tr style=\"text-align: right;\">\n",
       "      <th></th>\n",
       "      <th>time</th>\n",
       "      <th>y</th>\n",
       "      <th>x</th>\n",
       "      <th>pet</th>\n",
       "    </tr>\n",
       "  </thead>\n",
       "  <tbody>\n",
       "    <tr>\n",
       "      <th>0</th>\n",
       "      <td>2015-01-01</td>\n",
       "      <td>27.101122</td>\n",
       "      <td>98.029045</td>\n",
       "      <td>2.124623</td>\n",
       "    </tr>\n",
       "    <tr>\n",
       "      <th>1</th>\n",
       "      <td>2015-01-02</td>\n",
       "      <td>27.101122</td>\n",
       "      <td>98.029045</td>\n",
       "      <td>2.335129</td>\n",
       "    </tr>\n",
       "    <tr>\n",
       "      <th>2</th>\n",
       "      <td>2015-01-03</td>\n",
       "      <td>27.101122</td>\n",
       "      <td>98.029045</td>\n",
       "      <td>2.204388</td>\n",
       "    </tr>\n",
       "    <tr>\n",
       "      <th>3</th>\n",
       "      <td>2015-01-04</td>\n",
       "      <td>27.101122</td>\n",
       "      <td>98.029045</td>\n",
       "      <td>1.371815</td>\n",
       "    </tr>\n",
       "    <tr>\n",
       "      <th>4</th>\n",
       "      <td>2015-01-05</td>\n",
       "      <td>27.101122</td>\n",
       "      <td>98.029045</td>\n",
       "      <td>0.678956</td>\n",
       "    </tr>\n",
       "  </tbody>\n",
       "</table>\n",
       "</div>"
      ],
      "text/plain": [
       "         time          y          x       pet\n",
       "0  2015-01-01  27.101122  98.029045  2.124623\n",
       "1  2015-01-02  27.101122  98.029045  2.335129\n",
       "2  2015-01-03  27.101122  98.029045  2.204388\n",
       "3  2015-01-04  27.101122  98.029045  1.371815\n",
       "4  2015-01-05  27.101122  98.029045  0.678956"
      ]
     },
     "execution_count": 29,
     "metadata": {},
     "output_type": "execute_result"
    }
   ],
   "source": [
    "df.head()"
   ]
  },
  {
   "cell_type": "code",
   "execution_count": 31,
   "metadata": {},
   "outputs": [
    {
     "data": {
      "text/html": [
       "<div>\n",
       "<style scoped>\n",
       "    .dataframe tbody tr th:only-of-type {\n",
       "        vertical-align: middle;\n",
       "    }\n",
       "\n",
       "    .dataframe tbody tr th {\n",
       "        vertical-align: top;\n",
       "    }\n",
       "\n",
       "    .dataframe thead th {\n",
       "        text-align: right;\n",
       "    }\n",
       "</style>\n",
       "<table border=\"1\" class=\"dataframe\">\n",
       "  <thead>\n",
       "    <tr style=\"text-align: right;\">\n",
       "      <th></th>\n",
       "      <th>time</th>\n",
       "      <th>Soil_Moisture_Retrieval_Data_PM_retrieval_qual_flag_pm</th>\n",
       "      <th>Soil_Moisture_Retrieval_Data_PM_soil_moisture_pm</th>\n",
       "      <th>Soil_Moisture_Retrieval_Data_PM_surface_flag_pm</th>\n",
       "      <th>Soil_Moisture_Retrieval_Data_AM_retrieval_qual_flag</th>\n",
       "      <th>Soil_Moisture_Retrieval_Data_AM_soil_moisture</th>\n",
       "      <th>Soil_Moisture_Retrieval_Data_AM_surface_flag</th>\n",
       "    </tr>\n",
       "  </thead>\n",
       "  <tbody>\n",
       "    <tr>\n",
       "      <th>0</th>\n",
       "      <td>2015-03-31</td>\n",
       "      <td>7.0</td>\n",
       "      <td>NaN</td>\n",
       "      <td>2047.0</td>\n",
       "      <td>7.0</td>\n",
       "      <td>NaN</td>\n",
       "      <td>2047.0</td>\n",
       "    </tr>\n",
       "    <tr>\n",
       "      <th>1</th>\n",
       "      <td>2015-03-31</td>\n",
       "      <td>7.0</td>\n",
       "      <td>NaN</td>\n",
       "      <td>2047.0</td>\n",
       "      <td>7.0</td>\n",
       "      <td>NaN</td>\n",
       "      <td>2047.0</td>\n",
       "    </tr>\n",
       "    <tr>\n",
       "      <th>2</th>\n",
       "      <td>2015-04-01</td>\n",
       "      <td>1.0</td>\n",
       "      <td>0.409607</td>\n",
       "      <td>1024.0</td>\n",
       "      <td>7.0</td>\n",
       "      <td>NaN</td>\n",
       "      <td>2047.0</td>\n",
       "    </tr>\n",
       "    <tr>\n",
       "      <th>3</th>\n",
       "      <td>2015-04-02</td>\n",
       "      <td>7.0</td>\n",
       "      <td>NaN</td>\n",
       "      <td>2047.0</td>\n",
       "      <td>5.0</td>\n",
       "      <td>NaN</td>\n",
       "      <td>1024.0</td>\n",
       "    </tr>\n",
       "    <tr>\n",
       "      <th>4</th>\n",
       "      <td>2015-04-03</td>\n",
       "      <td>7.0</td>\n",
       "      <td>NaN</td>\n",
       "      <td>2047.0</td>\n",
       "      <td>7.0</td>\n",
       "      <td>NaN</td>\n",
       "      <td>2047.0</td>\n",
       "    </tr>\n",
       "  </tbody>\n",
       "</table>\n",
       "</div>"
      ],
      "text/plain": [
       "         time  Soil_Moisture_Retrieval_Data_PM_retrieval_qual_flag_pm  \\\n",
       "0  2015-03-31                                                7.0        \n",
       "1  2015-03-31                                                7.0        \n",
       "2  2015-04-01                                                1.0        \n",
       "3  2015-04-02                                                7.0        \n",
       "4  2015-04-03                                                7.0        \n",
       "\n",
       "   Soil_Moisture_Retrieval_Data_PM_soil_moisture_pm  \\\n",
       "0                                               NaN   \n",
       "1                                               NaN   \n",
       "2                                          0.409607   \n",
       "3                                               NaN   \n",
       "4                                               NaN   \n",
       "\n",
       "   Soil_Moisture_Retrieval_Data_PM_surface_flag_pm  \\\n",
       "0                                           2047.0   \n",
       "1                                           2047.0   \n",
       "2                                           1024.0   \n",
       "3                                           2047.0   \n",
       "4                                           2047.0   \n",
       "\n",
       "   Soil_Moisture_Retrieval_Data_AM_retrieval_qual_flag  \\\n",
       "0                                                7.0     \n",
       "1                                                7.0     \n",
       "2                                                7.0     \n",
       "3                                                5.0     \n",
       "4                                                7.0     \n",
       "\n",
       "   Soil_Moisture_Retrieval_Data_AM_soil_moisture  \\\n",
       "0                                            NaN   \n",
       "1                                            NaN   \n",
       "2                                            NaN   \n",
       "3                                            NaN   \n",
       "4                                            NaN   \n",
       "\n",
       "   Soil_Moisture_Retrieval_Data_AM_surface_flag  \n",
       "0                                        2047.0  \n",
       "1                                        2047.0  \n",
       "2                                        2047.0  \n",
       "3                                        1024.0  \n",
       "4                                        2047.0  "
      ]
     },
     "execution_count": 31,
     "metadata": {},
     "output_type": "execute_result"
    }
   ],
   "source": [
    "import pandas as pd\n",
    "filename = \"/home/waves/projects/smap-drydown/data/datarods/SPL3SMP/SPL3SMP_110_744.csv\"\n",
    "df = pd.read_csv(filename)\n",
    "df.head()"
   ]
  },
  {
   "cell_type": "code",
   "execution_count": 32,
   "metadata": {},
   "outputs": [
    {
     "data": {
      "text/plain": [
       "<Axes: >"
      ]
     },
     "execution_count": 32,
     "metadata": {},
     "output_type": "execute_result"
    },
    {
     "data": {
      "image/png": "[encoded data removed]",
      "text/plain": [
       "<Figure size 640x480 with 1 Axes>"
      ]
     },
     "metadata": {},
     "output_type": "display_data"
    }
   ],
   "source": [
    "df.Soil_Moisture_Retrieval_Data_PM_soil_moisture_pm.plot()\n",
    "df.Soil_Moisture_Retrieval_Data_PM_soil_moisture_pm.plot()"
   ]
  },
  {
   "cell_type": "code",
   "execution_count": null,
   "metadata": {},
   "outputs": [],
   "source": []
  }
 ],
 "metadata": {
  "kernelspec": {
   "display_name": "SMAP",
   "language": "python",
   "name": "smap"
  },
  "language_info": {
   "codemirror_mode": {
    "name": "ipython",
    "version": 3
   },
   "file_extension": ".py",
   "mimetype": "text/x-python",
   "name": "python",
   "nbconvert_exporter": "python",
   "pygments_lexer": "ipython3",
   "version": "3.11.5"
  },
  "vscode": {
   "interpreter": {
    "hash": "b9bb625824abef4d4aac1e2a49ce0c48a7a81b8279b57c1775258da1e07d9d2a"
   }
  }
 },
 "nbformat": 4,
 "nbformat_minor": 4
}
