{
 "cells": [
  {
   "cell_type": "code",
   "execution_count": 19,
   "metadata": {},
   "outputs": [],
   "source": [
    "# Unzip outputs\n",
    "import os"
   ]
  },
  {
   "cell_type": "code",
   "execution_count": null,
   "metadata": {},
   "outputs": [],
   "source": [
    "def check_files_existence(data_dir, variable_name):\n",
    "    _data_dir = os.path.join(data_dir, variable_name)\n",
    "    for x in range(0, 406):\n",
    "        for y in range(0, 964):\n",
    "            filename = f'{dir}_{x:03}_{y:03}.csv'\n",
    "            if not os.path.isfile(os.path.join(_data_dir, filename)):\n",
    "                print(f\"File {filename} is missing.\")\n",
    "            else:\n",
    "                None"
   ]
  },
  {
   "cell_type": "code",
   "execution_count": null,
   "metadata": {},
   "outputs": [],
   "source": [
    "if __name__ == \"__main__\":\n",
    "    data_dir = f\"/home/waves/projects/smap-drydown/data/datarods/\"\n",
    "    check_files_existence(data_dir=data_dir, variable_name = \"PET\")"
   ]
  },
  {
   "cell_type": "code",
   "execution_count": null,
   "metadata": {},
   "outputs": [],
   "source": [
    "if __name__ == \"__main__\":\n",
    "    data_dir = f\"/home/waves/projects/smap-drydown/data/datarods/\"\n",
    "    check_files_existence(data_dir=data_dir, variable_name = \"SPL3SMP\")"
   ]
  },
  {
   "cell_type": "code",
   "execution_count": 23,
   "metadata": {},
   "outputs": [],
   "source": [
    "import pandas as pd\n",
    "filename = \"/home/waves/projects/smap-drydown/data/datarods/SPL3SMP/SPL3SMP_110_744.csv\"\n",
    "df = pd.read_csv(filename)"
   ]
  },
  {
   "cell_type": "code",
   "execution_count": 25,
   "metadata": {},
   "outputs": [
    {
     "data": {
      "text/html": [
       "<div>\n",
       "<style scoped>\n",
       "    .dataframe tbody tr th:only-of-type {\n",
       "        vertical-align: middle;\n",
       "    }\n",
       "\n",
       "    .dataframe tbody tr th {\n",
       "        vertical-align: top;\n",
       "    }\n",
       "\n",
       "    .dataframe thead th {\n",
       "        text-align: right;\n",
       "    }\n",
       "</style>\n",
       "<table border=\"1\" class=\"dataframe\">\n",
       "  <thead>\n",
       "    <tr style=\"text-align: right;\">\n",
       "      <th></th>\n",
       "      <th>time</th>\n",
       "      <th>Soil_Moisture_Retrieval_Data_PM_retrieval_qual_flag_pm</th>\n",
       "      <th>Soil_Moisture_Retrieval_Data_PM_soil_moisture_pm</th>\n",
       "      <th>Soil_Moisture_Retrieval_Data_PM_surface_flag_pm</th>\n",
       "      <th>Soil_Moisture_Retrieval_Data_AM_retrieval_qual_flag</th>\n",
       "      <th>Soil_Moisture_Retrieval_Data_AM_soil_moisture</th>\n",
       "      <th>Soil_Moisture_Retrieval_Data_AM_surface_flag</th>\n",
       "    </tr>\n",
       "  </thead>\n",
       "  <tbody>\n",
       "    <tr>\n",
       "      <th>0</th>\n",
       "      <td>2015-03-31</td>\n",
       "      <td>7.0</td>\n",
       "      <td>NaN</td>\n",
       "      <td>2047.0</td>\n",
       "      <td>7.0</td>\n",
       "      <td>NaN</td>\n",
       "      <td>2047.0</td>\n",
       "    </tr>\n",
       "    <tr>\n",
       "      <th>1</th>\n",
       "      <td>2015-03-31</td>\n",
       "      <td>7.0</td>\n",
       "      <td>NaN</td>\n",
       "      <td>2047.0</td>\n",
       "      <td>7.0</td>\n",
       "      <td>NaN</td>\n",
       "      <td>2047.0</td>\n",
       "    </tr>\n",
       "    <tr>\n",
       "      <th>2</th>\n",
       "      <td>2015-04-01</td>\n",
       "      <td>1.0</td>\n",
       "      <td>0.409607</td>\n",
       "      <td>1024.0</td>\n",
       "      <td>7.0</td>\n",
       "      <td>NaN</td>\n",
       "      <td>2047.0</td>\n",
       "    </tr>\n",
       "    <tr>\n",
       "      <th>3</th>\n",
       "      <td>2015-04-02</td>\n",
       "      <td>7.0</td>\n",
       "      <td>NaN</td>\n",
       "      <td>2047.0</td>\n",
       "      <td>5.0</td>\n",
       "      <td>NaN</td>\n",
       "      <td>1024.0</td>\n",
       "    </tr>\n",
       "    <tr>\n",
       "      <th>4</th>\n",
       "      <td>2015-04-03</td>\n",
       "      <td>7.0</td>\n",
       "      <td>NaN</td>\n",
       "      <td>2047.0</td>\n",
       "      <td>7.0</td>\n",
       "      <td>NaN</td>\n",
       "      <td>2047.0</td>\n",
       "    </tr>\n",
       "  </tbody>\n",
       "</table>\n",
       "</div>"
      ],
      "text/plain": [
       "         time  Soil_Moisture_Retrieval_Data_PM_retrieval_qual_flag_pm  \\\n",
       "0  2015-03-31                                                7.0        \n",
       "1  2015-03-31                                                7.0        \n",
       "2  2015-04-01                                                1.0        \n",
       "3  2015-04-02                                                7.0        \n",
       "4  2015-04-03                                                7.0        \n",
       "\n",
       "   Soil_Moisture_Retrieval_Data_PM_soil_moisture_pm  \\\n",
       "0                                               NaN   \n",
       "1                                               NaN   \n",
       "2                                          0.409607   \n",
       "3                                               NaN   \n",
       "4                                               NaN   \n",
       "\n",
       "   Soil_Moisture_Retrieval_Data_PM_surface_flag_pm  \\\n",
       "0                                           2047.0   \n",
       "1                                           2047.0   \n",
       "2                                           1024.0   \n",
       "3                                           2047.0   \n",
       "4                                           2047.0   \n",
       "\n",
       "   Soil_Moisture_Retrieval_Data_AM_retrieval_qual_flag  \\\n",
       "0                                                7.0     \n",
       "1                                                7.0     \n",
       "2                                                7.0     \n",
       "3                                                5.0     \n",
       "4                                                7.0     \n",
       "\n",
       "   Soil_Moisture_Retrieval_Data_AM_soil_moisture  \\\n",
       "0                                            NaN   \n",
       "1                                            NaN   \n",
       "2                                            NaN   \n",
       "3                                            NaN   \n",
       "4                                            NaN   \n",
       "\n",
       "   Soil_Moisture_Retrieval_Data_AM_surface_flag  \n",
       "0                                        2047.0  \n",
       "1                                        2047.0  \n",
       "2                                        2047.0  \n",
       "3                                        1024.0  \n",
       "4                                        2047.0  "
      ]
     },
     "execution_count": 25,
     "metadata": {},
     "output_type": "execute_result"
    }
   ],
   "source": [
    "df.head()"
   ]
  }
 ],
 "metadata": {
  "kernelspec": {
   "display_name": "SMAP",
   "language": "python",
   "name": "smap"
  },
  "language_info": {
   "codemirror_mode": {
    "name": "ipython",
    "version": 3
   },
   "file_extension": ".py",
   "mimetype": "text/x-python",
   "name": "python",
   "nbconvert_exporter": "python",
   "pygments_lexer": "ipython3",
   "version": "3.11.5"
  },
  "vscode": {
   "interpreter": {
    "hash": "b9bb625824abef4d4aac1e2a49ce0c48a7a81b8279b57c1775258da1e07d9d2a"
   }
  }
 },
 "nbformat": 4,
 "nbformat_minor": 4
}
