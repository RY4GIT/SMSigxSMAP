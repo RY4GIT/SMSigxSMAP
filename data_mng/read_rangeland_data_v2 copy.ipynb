{
 "cells": [
  {
   "cell_type": "code",
   "execution_count": null,
   "id": "f3dcee2b-8f33-41be-99d0-a6bbf7c6d7b2",
   "metadata": {},
   "outputs": [],
   "source": [
    "import numpy as np\n",
    "import xarray as xr\n",
    "import netCDF4\n",
    "import matplotlib.pyplot as plt\n",
    "import numpy.ma as ma\n",
    "import pandas as pd\n",
    "import os\n",
    "from datetime import datetime\n",
    "import glob\n",
    "from tqdm import tqdm\n",
    "from rasterio.enums import Resampling\n",
    "from multiprocessing import Pool\n",
    "from itertools import product\n",
    "import rioxarray"
   ]
  },
  {
   "cell_type": "markdown",
   "id": "89665b21-a7e9-475f-aeb7-4239b9e4ea8e",
   "metadata": {},
   "source": [
    "# Define configs and functions"
   ]
  },
  {
   "cell_type": "code",
   "execution_count": null,
   "id": "b8b1015f-455e-4ded-9b66-ebc014cbd38b",
   "metadata": {},
   "outputs": [],
   "source": [
    "data_dir = r\"/home/waves/projects/smap-drydown/data\"\n",
    "SMAPL3_dir = \"SPL3SMP\"\n",
    "datarods_dir = \"datarods\"\n",
    "SMAPL4_dir = \"SPL4SMGP\"\n",
    "SMAPL4_grid_dir = \"SMAPL4SMGP_EASEreference\"\n",
    "rangeland_dir = \"rap-vegetation-cover-v3\"\n",
    "\n",
    "start_year = 2015\n",
    "end_year = 2022"
   ]
  },
  {
   "cell_type": "code",
   "execution_count": null,
   "id": "0ee8fae9-1a69-4b9e-ac73-479676c5c14c",
   "metadata": {},
   "outputs": [],
   "source": [
    "def create_output_dir(out_dir):\n",
    "    # Create and save the datarods  \n",
    "    if not os.path.exists(out_dir):\n",
    "        os.makedirs(out_dir)\n",
    "        print(f\"created {out_dir}\")\n",
    "    return out_dir\n",
    "\n",
    "def get_filepath_from_pattern(filename_pattern, directory):\n",
    "    file_paths = glob.glob(os.path.join(directory, filename_pattern))\n",
    "    print(f\"{filename_pattern}: {len(file_paths)} ... {len(file_paths):.1f} yrs of data available\")\n",
    "    return file_paths\n"
   ]
  },
  {
   "cell_type": "code",
   "execution_count": null,
   "id": "6d6f8183-31d9-4b31-ae8f-f071d8ad6b9a",
   "metadata": {},
   "outputs": [],
   "source": [
    "class EASEgrid_template():\n",
    "    def __init__(self, data_dir):\n",
    "        self.data_dir = data_dir\n",
    "        self.row_index, self.column_index, self.longitude, self.latitude = self.get_grid_coordinate()\n",
    "        self.varname = \"SPL3SMP\"\n",
    "        self.timestep = 365\n",
    "        self.filenames = self.get_filepath()\n",
    "        self.data = self.get_template_dataset()\n",
    "        \n",
    "    def get_grid_coordinate(self):\n",
    "        SMAPL3_grid_sample = os.path.join(self.data_dir, r\"SPL3SMP/SMAP_L3_SM_P_20150331_R18290_001.h5\")\n",
    "\n",
    "        # %%\n",
    "        ncf = netCDF4.Dataset(SMAPL3_grid_sample, diskless=True, persist=False)\n",
    "        nch_am = ncf.groups.get('Soil_Moisture_Retrieval_Data_AM')\n",
    "        nch_pm = ncf.groups.get('Soil_Moisture_Retrieval_Data_PM')\n",
    "\n",
    "        # %%\n",
    "        # Return as regular numpy array rather than masked array\n",
    "        _latitude = ma.getdata(nch_am.variables['latitude'][:].filled(fill_value=np.nan), subok=True)\n",
    "        _longitude = ma.getdata(nch_am.variables['longitude'][:].filled(fill_value=np.nan), subok=True)\n",
    "        _EASE_column_index = ma.getdata(nch_am.variables['EASE_column_index'][:].astype(int).filled(fill_value=-1), subok=True)\n",
    "        _EASE_row_index = ma.getdata(nch_am.variables['EASE_row_index'][:].astype(int).filled(fill_value=-1), subok=True)\n",
    "\n",
    "        # %%\n",
    "        # Coordinates with no data are skipped --- fill them\n",
    "        latitude = np.nanmax(_latitude, axis=1)\n",
    "        EASE_row_index = np.nanmax(_EASE_row_index, axis=1)\n",
    "        longitude = np.nanmax(_longitude, axis=0)\n",
    "        EASE_column_index = np.nanmax(_EASE_column_index, axis=0)\n",
    "        \n",
    "        return EASE_row_index, EASE_column_index, longitude, latitude\n",
    "    \n",
    "    def get_filepath(self):\n",
    "        filepaths = get_filepath(filename_pattern = f'SMAP_L3_SM_P_*.h5', directory=f\"{data_dir}/{self.varname}\")\n",
    "        return filepaths\n",
    "    \n",
    "    def get_template_dataset(self):\n",
    "        _ds_SMAPL3 = xr.open_dataset(self.filenames[0], engine='rasterio', group='Soil_Moisture_Retrieval_Data_AM', variable=['soil_moisture'])\n",
    "        ds_SMAPL3_coord_template = _ds_SMAPL3.assign_coords({'x':self.longitude, 'y':self.latitude}).rio.write_crs(\"epsg:4326\")\n",
    "        return ds_SMAPL3_coord_template"
   ]
  },
  {
   "cell_type": "markdown",
   "id": "22106ed0-e223-441d-8d16-3e302cc7975c",
   "metadata": {},
   "source": [
    "# Read SMAPL3 grid coordinate"
   ]
  },
  {
   "cell_type": "code",
   "execution_count": null,
   "id": "a55c9896-6b15-49b0-8b88-07ed105f6fb2",
   "metadata": {},
   "outputs": [],
   "source": [
    "SMAPL3_grid_sample = os.path.join(data_dir, r\"SPL3SMP/SMAP_L3_SM_P_20150331_R18290_001.h5\")\n",
    "# %%\n",
    "ncf = netCDF4.Dataset(SMAPL3_grid_sample, diskless=True, persist=False)\n",
    "nch_am = ncf.groups.get('Soil_Moisture_Retrieval_Data_AM')\n",
    "nch_pm = ncf.groups.get('Soil_Moisture_Retrieval_Data_PM')\n",
    "\n",
    "# %%\n",
    "# Return as regular numpy array rather than masked array\n",
    "_latitude = ma.getdata(nch_am.variables['latitude'][:].filled(fill_value=np.nan), subok=True)\n",
    "_longitude = ma.getdata(nch_am.variables['longitude'][:].filled(fill_value=np.nan), subok=True)\n",
    "_EASE_column_index = ma.getdata(nch_am.variables['EASE_column_index'][:].astype(int).filled(fill_value=-1), subok=True)\n",
    "_EASE_row_index = ma.getdata(nch_am.variables['EASE_row_index'][:].astype(int).filled(fill_value=-1), subok=True)\n",
    "\n",
    "# %%\n",
    "# Coordinates with no data are skipped --- fill them\n",
    "latitude = np.nanmax(_latitude, axis=1)\n",
    "EASE_row_index = np.nanmax(_EASE_row_index, axis=1)\n",
    "longitude = np.nanmax(_longitude, axis=0)\n",
    "EASE_column_index = np.nanmax(_EASE_column_index, axis=0)\n",
    "\n",
    "filepaths = get_filepath_from_pattern(filename_pattern = f'SMAP_L3_SM_P_*.h5', directory=f\"{data_dir}/SPL3SMP\")\n",
    "_ds_SMAPL3 = xr.open_dataset(filepaths[0], engine='rasterio', group='Soil_Moisture_Retrieval_Data_AM', variable=['soil_moisture'])\n",
    "ds_SMAPL3_coord_template = _ds_SMAPL3.assign_coords({'x':longitude, 'y':latitude}).rio.write_crs(\"epsg:4326\")\n",
    "ease_template = ds_SMAPL3_coord_template.Soil_Moisture_Retrieval_Data_AM_soil_moisture\n",
    "ease_template"
   ]
  },
  {
   "cell_type": "markdown",
   "id": "b93b4556-194b-4479-82c7-0c0cce014da2",
   "metadata": {},
   "source": [
    "# Create rangeland data"
   ]
  },
  {
   "cell_type": "code",
   "execution_count": null,
   "id": "6ccc5aa0-b241-4b74-a7a7-6457c50658ad",
   "metadata": {},
   "outputs": [],
   "source": [
    "varname = \"rangeland_avg\"\n",
    "out_dir = create_output_dir(os.path.join(data_dir, datarods_dir, varname))"
   ]
  },
  {
   "cell_type": "code",
   "execution_count": null,
   "id": "c8521e45-4571-4a99-86ca-827107f114a4",
   "metadata": {},
   "outputs": [],
   "source": [
    "filenames = get_filepath_from_pattern(filename_pattern=f'vegetation-cover-v3-*.tif', directory=os.path.join(data_dir, \"rap-vegetation-cover-v3\"))\n",
    "filenames"
   ]
  },
  {
   "cell_type": "code",
   "execution_count": null,
   "id": "df2239b8-b67e-4578-821b-483304fc421f",
   "metadata": {
    "scrolled": true
   },
   "outputs": [],
   "source": [
    "_ds = rioxarray.open_rasterio(filenames[0])\n",
    "ds = _ds.rio.write_crs('epsg:4326', inplace=True)\n",
    "bbox = ds.rio.bounds()\n",
    "print(f\"Bounding Box: {bbox}\")\n",
    "left, bottom, right, top = bbox\n",
    "ds\n",
    "# data._FillValue"
   ]
  },
  {
   "cell_type": "code",
   "execution_count": null,
   "id": "476096c0-f2da-4285-8541-c29d12ae4cc2",
   "metadata": {},
   "outputs": [],
   "source": [
    "band_num = 6\n",
    "import re\n",
    "\n",
    "# Using regular expression to find year pattern in the string\n",
    "match = re.search(r'\\d{4}', filenames[0])\n",
    "record_year = match.group() if match else \"Year not found\"\n",
    "record_year"
   ]
  },
  {
   "cell_type": "code",
   "execution_count": null,
   "id": "1288c36b-af2c-4f54-bc50-f34fa0f6dca0",
   "metadata": {},
   "outputs": [],
   "source": [
    "subset_ease_template = ease_template.sel(x=slice(left, right), y=slice(top, bottom))\n",
    "subset_ease_template"
   ]
  },
  {
   "cell_type": "code",
   "execution_count": null,
   "id": "2f7365c1-1072-4b04-8b54-64e6eb9a7937",
   "metadata": {},
   "outputs": [],
   "source": [
    "veg_ds = ds['band'== band_num]"
   ]
  },
  {
   "cell_type": "code",
   "execution_count": null,
   "id": "efe9ef83-c31b-4c19-96ae-40cb4be445cf",
   "metadata": {},
   "outputs": [],
   "source": [
    "import time\n"
   ]
  },
  {
   "cell_type": "code",
   "execution_count": null,
   "id": "8fb3c255",
   "metadata": {},
   "outputs": [],
   "source": [
    "veg_ds"
   ]
  },
  {
   "cell_type": "code",
   "execution_count": null,
   "id": "628463f3-80ee-4899-afc7-c5944487d8dd",
   "metadata": {},
   "outputs": [],
   "source": [
    "start_time = time.time()\n",
    "\n",
    "grid_interval_y_min = abs(\n",
    "    subset_ease_template.y.data[0] - subset_ease_template.y.data[1]\n",
    ")\n",
    "grid_interval_x_min = abs(\n",
    "    subset_ease_template.x.data[0] - subset_ease_template.x.data[1]\n",
    ")\n",
    "# For maximum edge using the last two elements\n",
    "grid_interval_y_max = abs(\n",
    "    subset_ease_template.y.data[-1] - subset_ease_template.y.data[-2]\n",
    ")\n",
    "grid_interval_x_max = abs(\n",
    "    subset_ease_template.x.data[-1] - subset_ease_template.x.data[-2]\n",
    ")\n",
    "\n",
    "new_lat_bounds = np.linspace(\n",
    "    start=min(subset_ease_template.y) - grid_interval_y_min,\n",
    "    stop=max(subset_ease_template.y) + grid_interval_y_max,\n",
    "    num=len(subset_ease_template.y) + 1,\n",
    ")\n",
    "new_lon_bounds = np.linspace(\n",
    "    start=min(subset_ease_template.x) - grid_interval_x_min,\n",
    "    stop=max(subset_ease_template.x) + grid_interval_x_max,\n",
    "    num=len(subset_ease_template.x) + 1,\n",
    ")\n",
    "\n",
    "# # Example of defining new grid boundaries manually or from subset_ease_template\n",
    "# new_lat_bounds = np.linspace(start=min(subset_ease_template.y), stop=max(subset_ease_template.y), num=len(subset_ease_template.y) + 1)\n",
    "# new_lon_bounds = np.linspace(start=min(subset_ease_template.x), stop=max(subset_ease_template.x), num=len(subset_ease_template.x) + 1)\n",
    "\n",
    "# Grouping by these new bins\n",
    "grouped = veg_ds.groupby_bins('y', new_lat_bounds).mean()\n",
    "veg_ds_resampled = grouped.groupby_bins('x', new_lon_bounds).mean()\n",
    "end_time = time.time()\n",
    "elapsed_time = end_time - start_time\n",
    "print(f\"Time taken for the operation: {elapsed_time} seconds\")\n",
    "\n",
    "veg_ds_resampled"
   ]
  },
  {
   "cell_type": "code",
   "execution_count": null,
   "id": "a94a2c28-ab73-40be-bf7a-a4c140d6ec6b",
   "metadata": {},
   "outputs": [],
   "source": [
    "new_ds = xr.DataArray(\n",
    "    data=veg_ds_resampled.data,\n",
    "    dims=['y', 'x'],\n",
    "    coords={\n",
    "    'y': np.flip(subset_ease_template.y.data),\n",
    "    'x': subset_ease_template.x.data\n",
    "    }\n",
    ")\n",
    "new_ds.attrs['crs'] = 'EPSG:4326'"
   ]
  },
  {
   "cell_type": "code",
   "execution_count": null,
   "id": "c69b0dbc-a7fb-4bb2-a9eb-bfd03b013de6",
   "metadata": {},
   "outputs": [],
   "source": [
    "import cartopy.crs as ccrs\n",
    "projection = ccrs.PlateCarree()\n",
    "fig, ax = plt.subplots(subplot_kw={'projection': projection})\n",
    "conus_extent = [-125, -66.5, 24.5, 49.5]\n",
    "east_extent = [-82, -66.5, 25, 47]\n",
    "cal_extent = [-124.5, -114.0, 32.5, 42.0]\n",
    "# Plot the new data\n",
    "new_ds.plot(ax=ax, transform=projection, vmin=0, vmax=100)\n",
    "ax.set_extent(conus_extent, crs=ccrs.PlateCarree())\n",
    "ax.coastlines()\n",
    "plt.show()"
   ]
  },
  {
   "cell_type": "code",
   "execution_count": null,
   "id": "2a7ef453-6b93-4fd8-a872-7994d5bfb104",
   "metadata": {},
   "outputs": [],
   "source": [
    "out_dir = create_output_dir(os.path.join(data_dir, varname + '_resampled'))\n"
   ]
  },
  {
   "cell_type": "code",
   "execution_count": null,
   "id": "76a03087-c12f-4a41-be01-bd6ce97a2d1a",
   "metadata": {},
   "outputs": [],
   "source": [
    "out_filepath = os.path.join(out_dir, f\"{record_year}_band{band_num}_test.nc\")\n",
    "new_ds.to_netcdf(path=out_filepath)"
   ]
  },
  {
   "cell_type": "code",
   "execution_count": null,
   "id": "e39d62ed-dccb-46a7-b4f1-32b3490936d7",
   "metadata": {},
   "outputs": [],
   "source": []
  }
 ],
 "metadata": {
  "kernelspec": {
   "display_name": "SMAP",
   "language": "python",
   "name": "smap"
  },
  "language_info": {
   "codemirror_mode": {
    "name": "ipython",
    "version": 3
   },
   "file_extension": ".py",
   "mimetype": "text/x-python",
   "name": "python",
   "nbconvert_exporter": "python",
   "pygments_lexer": "ipython3",
   "version": "3.12.2"
  }
 },
 "nbformat": 4,
 "nbformat_minor": 5
}
