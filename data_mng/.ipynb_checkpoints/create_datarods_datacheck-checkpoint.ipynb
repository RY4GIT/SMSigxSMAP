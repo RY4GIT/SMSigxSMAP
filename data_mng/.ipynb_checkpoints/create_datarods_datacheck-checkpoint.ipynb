{
 "cells": [
  {
   "cell_type": "code",
   "execution_count": 19,
   "metadata": {},
   "outputs": [],
   "source": [
    "# Unzip outputs\n",
    "import os"
   ]
  },
  {
   "cell_type": "code",
   "execution_count": null,
   "metadata": {},
   "outputs": [],
   "source": [
    "def check_files_existence(data_dir, variable_name):\n",
    "    _data_dir = os.path.join(data_dir, variable_name)\n",
    "    for x in range(0, 406):\n",
    "        for y in range(0, 964):\n",
    "            filename = f'{dir}_{x:03}_{y:03}.csv'\n",
    "            if not os.path.isfile(os.path.join(_data_dir, filename)):\n",
    "                print(f\"File {filename} is missing.\")\n",
    "            else:\n",
    "                None"
   ]
  },
  {
   "cell_type": "code",
   "execution_count": null,
   "metadata": {},
   "outputs": [],
   "source": [
    "if __name__ == \"__main__\":\n",
    "    data_dir = f\"/home/waves/projects/smap-drydown/data/datarods/\"\n",
    "    check_files_existence(data_dir=data_dir, variable_name = \"PET\")"
   ]
  },
  {
   "cell_type": "code",
   "execution_count": null,
   "metadata": {},
   "outputs": [],
   "source": [
    "if __name__ == \"__main__\":\n",
    "    data_dir = f\"/home/waves/projects/smap-drydown/data/datarods/\"\n",
    "    check_files_existence(data_dir=data_dir, variable_name = \"SPL3SMP\")"
   ]
  }
 ],
 "metadata": {
  "kernelspec": {
   "display_name": "SMAP",
   "language": "python",
   "name": "smap"
  },
  "language_info": {
   "codemirror_mode": {
    "name": "ipython",
    "version": 3
   },
   "file_extension": ".py",
   "mimetype": "text/x-python",
   "name": "python",
   "nbconvert_exporter": "python",
   "pygments_lexer": "ipython3",
   "version": "3.11.5"
  },
  "vscode": {
   "interpreter": {
    "hash": "b9bb625824abef4d4aac1e2a49ce0c48a7a81b8279b57c1775258da1e07d9d2a"
   }
  }
 },
 "nbformat": 4,
 "nbformat_minor": 4
}
