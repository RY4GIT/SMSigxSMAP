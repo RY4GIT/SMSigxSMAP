{
 "cells": [
  {
   "cell_type": "code",
   "execution_count": 1,
   "id": "b312ff9d-e5da-43dc-a505-ae3d9631d1c7",
   "metadata": {},
   "outputs": [],
   "source": [
    "# %%\n",
    "import os\n",
    "import numpy as np\n",
    "import pandas as pd\n",
    "from datetime import datetime, timedelta\n",
    "import rasterio as rio\n",
    "import xarray as xr\n",
    "import rioxarray\n",
    "import json\n",
    "import requests\n",
    "from pyproj import CRS\n",
    "import pyproj\n",
    "from osgeo import gdal\n",
    "from math import ceil, floor\n",
    "import matplotlib.pyplot as plt\n",
    "from odc.stac import stac_load\n",
    "import planetary_computer\n",
    "import pystac_client\n",
    "import rich.table\n",
    "import warnings\n",
    "warnings.filterwarnings(\"ignore\")\n",
    "from sklearn.linear_model import LinearRegression\n",
    "\n",
    "\n",
    "# %%\n",
    "###### CHANGE HERE ###########\n",
    "network_name = \"Oznet_Alabama_area\"\n",
    "minx = 147.291085\n",
    "miny = -35.903334\n",
    "maxx = 148.172738\n",
    "maxy = -35.190465\n",
    "bbox = {'minx':minx, 'maxx':maxx, 'miny':miny, 'maxy':maxy}\n",
    "\n",
    "\n",
    "startDate = datetime(2016, 1, 1)\n",
    "endDate = datetime(2022, 1, 1)\n",
    "currentDate = startDate\n",
    "\n",
    "###### CHANGE HERE ###########\n",
    "input_path = r\"..\\1_data\"\n",
    "output_path = r\"..\\3_data_out\"\n",
    "SMAPL3_path = \"SPL3SMP_E\"\n",
    "SMAPL4_path = \"SPL4SMGP\"\n",
    "SMAPL4_grid_path = \"SMAPL4SMGP_EASEreference\"\n",
    "PET_path = \"PET\"\n"
   ]
  },
  {
   "cell_type": "code",
   "execution_count": null,
   "id": "8fff264e-103c-447f-ad79-ca488d8da3e2",
   "metadata": {},
   "outputs": [],
   "source": []
  }
 ],
 "metadata": {
  "kernelspec": {
   "display_name": "Python [conda env:.conda-SMAP]",
   "language": "python",
   "name": "conda-env-.conda-SMAP-py"
  },
  "language_info": {
   "codemirror_mode": {
    "name": "ipython",
    "version": 3
   },
   "file_extension": ".py",
   "mimetype": "text/x-python",
   "name": "python",
   "nbconvert_exporter": "python",
   "pygments_lexer": "ipython3",
   "version": "3.10.6"
  }
 },
 "nbformat": 4,
 "nbformat_minor": 5
}
