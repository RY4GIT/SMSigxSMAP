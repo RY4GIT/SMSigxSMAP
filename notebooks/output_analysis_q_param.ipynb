{
 "cells": [
  {
   "cell_type": "code",
   "execution_count": 1,
   "metadata": {},
   "outputs": [],
   "source": [
    "import pandas as pd\n",
    "import os\n",
    "import matplotlib.pyplot as plt\n",
    "import numpy as np\n",
    "import xarray as xr\n",
    "\n",
    "from functions import q_drydown, exponential_drydown, q_loss"
   ]
  },
  {
   "cell_type": "code",
   "execution_count": 2,
   "metadata": {},
   "outputs": [],
   "source": [
    "dir_name = f\"fit_models_py_raraki_2023-10-26_CONUS\""
   ]
  },
  {
   "cell_type": "markdown",
   "metadata": {},
   "source": [
    "# Read data"
   ]
  },
  {
   "cell_type": "code",
   "execution_count": 3,
   "metadata": {},
   "outputs": [
    {
     "name": "stdout",
     "output_type": "stream",
     "text": [
      "Number of events: 103118\n"
     ]
    },
    {
     "data": {
      "text/html": [
       "<div>\n",
       "<style scoped>\n",
       "    .dataframe tbody tr th:only-of-type {\n",
       "        vertical-align: middle;\n",
       "    }\n",
       "\n",
       "    .dataframe tbody tr th {\n",
       "        vertical-align: top;\n",
       "    }\n",
       "\n",
       "    .dataframe thead th {\n",
       "        text-align: right;\n",
       "    }\n",
       "</style>\n",
       "<table border=\"1\" class=\"dataframe\">\n",
       "  <thead>\n",
       "    <tr style=\"text-align: right;\">\n",
       "      <th></th>\n",
       "      <th>Unnamed: 0</th>\n",
       "      <th>EASE_row_index</th>\n",
       "      <th>EASE_column_index</th>\n",
       "      <th>event_start</th>\n",
       "      <th>event_end</th>\n",
       "      <th>time</th>\n",
       "      <th>sm</th>\n",
       "      <th>min_sm</th>\n",
       "      <th>max_sm</th>\n",
       "      <th>pet</th>\n",
       "      <th>...</th>\n",
       "      <th>exp_r_squared</th>\n",
       "      <th>exp_y_opt</th>\n",
       "      <th>q_k</th>\n",
       "      <th>q_q</th>\n",
       "      <th>q_delta_theta</th>\n",
       "      <th>q_r_squared</th>\n",
       "      <th>q_y_opt</th>\n",
       "      <th>id</th>\n",
       "      <th>latitude</th>\n",
       "      <th>longitude</th>\n",
       "    </tr>\n",
       "  </thead>\n",
       "  <tbody>\n",
       "    <tr>\n",
       "      <th>0</th>\n",
       "      <td>0</td>\n",
       "      <td>49</td>\n",
       "      <td>178</td>\n",
       "      <td>2015-07-06</td>\n",
       "      <td>2015-07-16</td>\n",
       "      <td>[ 0  1  2  4  5  7  8  9 10]</td>\n",
       "      <td>[0.2700876  0.23557265 0.21525141 0.1968715  0...</td>\n",
       "      <td>0.075926</td>\n",
       "      <td>0.328024</td>\n",
       "      <td>4.546666</td>\n",
       "      <td>...</td>\n",
       "      <td>0.975346</td>\n",
       "      <td>[0.26412165493388085, 0.24139738415785048, 0.2...</td>\n",
       "      <td>0.202903</td>\n",
       "      <td>1.918047e+00</td>\n",
       "      <td>0.755568</td>\n",
       "      <td>0.977789</td>\n",
       "      <td>[0.26640344948855904, 0.2404375016771953, 0.22...</td>\n",
       "      <td>47414</td>\n",
       "      <td>49.00465</td>\n",
       "      <td>-113.34025</td>\n",
       "    </tr>\n",
       "    <tr>\n",
       "      <th>1</th>\n",
       "      <td>1</td>\n",
       "      <td>49</td>\n",
       "      <td>178</td>\n",
       "      <td>2015-07-18</td>\n",
       "      <td>2015-07-22</td>\n",
       "      <td>[0 1 3 4]</td>\n",
       "      <td>[0.25743487 0.21624508 0.23729874 0.21127926]</td>\n",
       "      <td>0.075926</td>\n",
       "      <td>0.328024</td>\n",
       "      <td>4.690045</td>\n",
       "      <td>...</td>\n",
       "      <td>0.499637</td>\n",
       "      <td>[0.2572866811355069, 0.21781057269789478, 0.21...</td>\n",
       "      <td>4.690045</td>\n",
       "      <td>9.900271e+00</td>\n",
       "      <td>0.705167</td>\n",
       "      <td>0.514283</td>\n",
       "      <td>[0.25369743783879695, 0.2338783111456459, 0.21...</td>\n",
       "      <td>47414</td>\n",
       "      <td>49.00465</td>\n",
       "      <td>-113.34025</td>\n",
       "    </tr>\n",
       "    <tr>\n",
       "      <th>2</th>\n",
       "      <td>2</td>\n",
       "      <td>49</td>\n",
       "      <td>178</td>\n",
       "      <td>2016-10-16</td>\n",
       "      <td>2016-10-27</td>\n",
       "      <td>[ 0  1  3  4  5  6  8  9 11]</td>\n",
       "      <td>[0.27266908 0.23120848 0.23455536 0.23573506 0...</td>\n",
       "      <td>0.075926</td>\n",
       "      <td>0.328024</td>\n",
       "      <td>1.012646</td>\n",
       "      <td>...</td>\n",
       "      <td>0.760390</td>\n",
       "      <td>[0.2602228482451473, 0.2502020562923525, 0.235...</td>\n",
       "      <td>1.012646</td>\n",
       "      <td>8.347464e+00</td>\n",
       "      <td>0.751935</td>\n",
       "      <td>0.813172</td>\n",
       "      <td>[0.26548764589419876, 0.2494341356425815, 0.23...</td>\n",
       "      <td>47414</td>\n",
       "      <td>49.00465</td>\n",
       "      <td>-113.34025</td>\n",
       "    </tr>\n",
       "    <tr>\n",
       "      <th>3</th>\n",
       "      <td>3</td>\n",
       "      <td>49</td>\n",
       "      <td>178</td>\n",
       "      <td>2017-09-14</td>\n",
       "      <td>2017-09-22</td>\n",
       "      <td>[0 1 3 4 6 7 8]</td>\n",
       "      <td>[0.20092689 0.17785274 0.19096084 0.17382596 0...</td>\n",
       "      <td>0.075926</td>\n",
       "      <td>0.328024</td>\n",
       "      <td>1.716990</td>\n",
       "      <td>...</td>\n",
       "      <td>0.617091</td>\n",
       "      <td>[0.2030338659424098, 0.19249319777760432, 0.17...</td>\n",
       "      <td>0.034580</td>\n",
       "      <td>3.394039e-13</td>\n",
       "      <td>0.504964</td>\n",
       "      <td>0.675996</td>\n",
       "      <td>[0.2032265298566947, 0.19450887316881393, 0.17...</td>\n",
       "      <td>47414</td>\n",
       "      <td>49.00465</td>\n",
       "      <td>-113.34025</td>\n",
       "    </tr>\n",
       "    <tr>\n",
       "      <th>4</th>\n",
       "      <td>4</td>\n",
       "      <td>49</td>\n",
       "      <td>178</td>\n",
       "      <td>2019-04-04</td>\n",
       "      <td>2019-04-09</td>\n",
       "      <td>[0 1 2 4 5]</td>\n",
       "      <td>[0.26918507 0.2656639  0.25493159 0.26055649 0...</td>\n",
       "      <td>0.075926</td>\n",
       "      <td>0.328024</td>\n",
       "      <td>1.790631</td>\n",
       "      <td>...</td>\n",
       "      <td>0.691905</td>\n",
       "      <td>[0.26906007192877474, 0.26413883069662036, 0.2...</td>\n",
       "      <td>0.016283</td>\n",
       "      <td>2.124995e-09</td>\n",
       "      <td>0.764159</td>\n",
       "      <td>0.698771</td>\n",
       "      <td>[0.2685692772512031, 0.26446439047231707, 0.26...</td>\n",
       "      <td>47414</td>\n",
       "      <td>49.00465</td>\n",
       "      <td>-113.34025</td>\n",
       "    </tr>\n",
       "  </tbody>\n",
       "</table>\n",
       "<p>5 rows × 23 columns</p>\n",
       "</div>"
      ],
      "text/plain": [
       "   Unnamed: 0  EASE_row_index  EASE_column_index event_start   event_end  \\\n",
       "0           0              49                178  2015-07-06  2015-07-16   \n",
       "1           1              49                178  2015-07-18  2015-07-22   \n",
       "2           2              49                178  2016-10-16  2016-10-27   \n",
       "3           3              49                178  2017-09-14  2017-09-22   \n",
       "4           4              49                178  2019-04-04  2019-04-09   \n",
       "\n",
       "                           time  \\\n",
       "0  [ 0  1  2  4  5  7  8  9 10]   \n",
       "1                     [0 1 3 4]   \n",
       "2  [ 0  1  3  4  5  6  8  9 11]   \n",
       "3               [0 1 3 4 6 7 8]   \n",
       "4                   [0 1 2 4 5]   \n",
       "\n",
       "                                                  sm    min_sm    max_sm  \\\n",
       "0  [0.2700876  0.23557265 0.21525141 0.1968715  0...  0.075926  0.328024   \n",
       "1      [0.25743487 0.21624508 0.23729874 0.21127926]  0.075926  0.328024   \n",
       "2  [0.27266908 0.23120848 0.23455536 0.23573506 0...  0.075926  0.328024   \n",
       "3  [0.20092689 0.17785274 0.19096084 0.17382596 0...  0.075926  0.328024   \n",
       "4  [0.26918507 0.2656639  0.25493159 0.26055649 0...  0.075926  0.328024   \n",
       "\n",
       "        pet  ...  exp_r_squared  \\\n",
       "0  4.546666  ...       0.975346   \n",
       "1  4.690045  ...       0.499637   \n",
       "2  1.012646  ...       0.760390   \n",
       "3  1.716990  ...       0.617091   \n",
       "4  1.790631  ...       0.691905   \n",
       "\n",
       "                                           exp_y_opt       q_k           q_q  \\\n",
       "0  [0.26412165493388085, 0.24139738415785048, 0.2...  0.202903  1.918047e+00   \n",
       "1  [0.2572866811355069, 0.21781057269789478, 0.21...  4.690045  9.900271e+00   \n",
       "2  [0.2602228482451473, 0.2502020562923525, 0.235...  1.012646  8.347464e+00   \n",
       "3  [0.2030338659424098, 0.19249319777760432, 0.17...  0.034580  3.394039e-13   \n",
       "4  [0.26906007192877474, 0.26413883069662036, 0.2...  0.016283  2.124995e-09   \n",
       "\n",
       "  q_delta_theta  q_r_squared  \\\n",
       "0      0.755568     0.977789   \n",
       "1      0.705167     0.514283   \n",
       "2      0.751935     0.813172   \n",
       "3      0.504964     0.675996   \n",
       "4      0.764159     0.698771   \n",
       "\n",
       "                                             q_y_opt     id  latitude  \\\n",
       "0  [0.26640344948855904, 0.2404375016771953, 0.22...  47414  49.00465   \n",
       "1  [0.25369743783879695, 0.2338783111456459, 0.21...  47414  49.00465   \n",
       "2  [0.26548764589419876, 0.2494341356425815, 0.23...  47414  49.00465   \n",
       "3  [0.2032265298566947, 0.19450887316881393, 0.17...  47414  49.00465   \n",
       "4  [0.2685692772512031, 0.26446439047231707, 0.26...  47414  49.00465   \n",
       "\n",
       "   longitude  \n",
       "0 -113.34025  \n",
       "1 -113.34025  \n",
       "2 -113.34025  \n",
       "3 -113.34025  \n",
       "4 -113.34025  \n",
       "\n",
       "[5 rows x 23 columns]"
      ]
     },
     "execution_count": 3,
     "metadata": {},
     "output_type": "execute_result"
    }
   ],
   "source": [
    "input_file = rf\"/home/raraki/waves/projects/smap-drydown/output/{dir_name}/all_results.csv\"\n",
    "_df = pd.read_csv(input_file)\n",
    "coord_info_file = \"/home/raraki/waves/projects/smap-drydown/data/datarods/coord_info.csv\"\n",
    "coord_info = pd.read_csv(coord_info_file)\n",
    "df = _df.merge(coord_info, on=['EASE_row_index', 'EASE_column_index'], how='left')\n",
    "print(f\"Number of events: {len(df)}\")\n",
    "df.head()"
   ]
  },
  {
   "cell_type": "code",
   "execution_count": 15,
   "metadata": {},
   "outputs": [
    {
     "name": "stdout",
     "output_type": "stream",
     "text": [
      "Int64Index([     0,      1,      2,      3,      4,      5,      6,      7,\n",
      "                 9,     11,\n",
      "            ...\n",
      "            103104, 103105, 103106, 103107, 103108, 103112, 103113, 103114,\n",
      "            103115, 103117],\n",
      "           dtype='int64', length=72125)\n"
     ]
    }
   ],
   "source": [
    "print(df[df[\"q_r_squared\"]>df[\"exp_r_squared\"]].index)"
   ]
  },
  {
   "cell_type": "code",
   "execution_count": 106,
   "metadata": {},
   "outputs": [],
   "source": [
    "event_id = 9"
   ]
  },
  {
   "cell_type": "code",
   "execution_count": 107,
   "metadata": {},
   "outputs": [],
   "source": [
    "event = df.loc[event_id]"
   ]
  },
  {
   "cell_type": "code",
   "execution_count": 108,
   "metadata": {},
   "outputs": [
    {
     "data": {
      "text/plain": [
       "array([0.24183768, 0.20831373, 0.16579126, 0.1471386 , 0.20398675,\n",
       "       0.19658515,        nan, 0.16578399])"
      ]
     },
     "execution_count": 108,
     "metadata": {},
     "output_type": "execute_result"
    }
   ],
   "source": [
    "# Your input string\n",
    "input_string =event.sm\n",
    "\n",
    "# Replace '\\n' with ' ' (space) to ensure all numbers are separated by spaces\n",
    "input_string = input_string.replace('\\n', ' np.nan')\n",
    "\n",
    "# Replace ' nan' with ' np.nan' (with a space before np.nan) to ensure it's a valid NumPy nan value\n",
    "input_string = input_string.replace(' nan', ' np.nan')\n",
    "\n",
    "# Remove the square brackets at the beginning and end of the string\n",
    "input_string = input_string.strip('[]')\n",
    "\n",
    "# Convert the modified string to a NumPy array\n",
    "sm = np.array([float(value) if value != 'np.nan' else np.nan for value in input_string.split()])\n",
    "sm"
   ]
  },
  {
   "cell_type": "code",
   "execution_count": 109,
   "metadata": {},
   "outputs": [
    {
     "data": {
      "text/plain": [
       "array([ 0,  1,  5,  6,  8,  9, 11])"
      ]
     },
     "execution_count": 109,
     "metadata": {},
     "output_type": "execute_result"
    }
   ],
   "source": [
    "\n",
    "\n",
    "# Your input string\n",
    "\n",
    "# Remove the square brackets and split the string into individual values\n",
    "values = event.time.strip('[]').split()\n",
    "\n",
    "# Convert the values to integers and create a NumPy array\n",
    "t_d = np.array([int(value) for value in values])\n",
    "t_d\n"
   ]
  },
  {
   "cell_type": "code",
   "execution_count": 110,
   "metadata": {},
   "outputs": [],
   "source": [
    "import ast\n",
    "def string_to_numpy_array(string):\n",
    "    try:\n",
    "        # Use ast.literal_eval to safely evaluate the string as a list\n",
    "        return np.array(ast.literal_eval(string))\n",
    "    except (SyntaxError, ValueError):\n",
    "        return np.nan  # Return NaN if the string cannot be converted\n"
   ]
  },
  {
   "cell_type": "code",
   "execution_count": 111,
   "metadata": {},
   "outputs": [
    {
     "data": {
      "text/plain": [
       "11"
      ]
     },
     "execution_count": 111,
     "metadata": {},
     "output_type": "execute_result"
    }
   ],
   "source": [
    "n_days = (pd.to_datetime(event.event_end) - pd.to_datetime(event.event_start)).days\n",
    "n_days"
   ]
  },
  {
   "cell_type": "code",
   "execution_count": 112,
   "metadata": {},
   "outputs": [],
   "source": [
    "# Define variables \n",
    "theta = np.arange(0, 1, 0.01)\n",
    "t = np.arange(0, n_days+1, 0.1)\n",
    "# t_d = np.array([float(value) if value != 'np.nan' else np.nan for value in event.time.split()])\n",
    "# t_h = pd.date_range(start=event.event_start, end=event.event_end, freq=\"H\")\n",
    "\n",
    "# Define parameters\n",
    "k= event.q_k\n",
    "q0 = 1\n",
    "q = event.q_q\n",
    "delta_theta = event.q_delta_theta\n",
    "# q2 = 0.7\n",
    "min_sm = event.min_sm\n",
    "max_sm = event.max_sm\n",
    "\n",
    "_exp_y_opt = np.array(ast.literal_eval(event.exp_y_opt)) # df['exp_y_opt'].apply(string_to_numpy_array)\n",
    "exp_y_opt = (_exp_y_opt - min_sm)/(max_sm - min_sm)\n",
    "_q_y_opt = np.array(ast.literal_eval(event.q_y_opt)) # df['q_y_opt'].apply(string_to_numpy_array)\n",
    "q_y_opt = (_q_y_opt - min_sm)/(max_sm - min_sm)\n",
    "\n",
    "exp_delta_theta = event.exp_delta_theta\n",
    "theta_w = event.exp_theta_w\n",
    "tau = event.exp_tau\n",
    "\n",
    "norm_sm =  (sm-min_sm)/(max_sm-min_sm)\n"
   ]
  },
  {
   "cell_type": "code",
   "execution_count": 113,
   "metadata": {},
   "outputs": [
    {
     "data": {
      "text/plain": [
       "array([ 0,  1,  5,  6,  8,  9, 11])"
      ]
     },
     "execution_count": 113,
     "metadata": {},
     "output_type": "execute_result"
    }
   ],
   "source": [
    "t_d"
   ]
  },
  {
   "cell_type": "code",
   "execution_count": 114,
   "metadata": {},
   "outputs": [
    {
     "data": {
      "image/png": "[encoded data removed]",
      "text/plain": [
       "<Figure size 700x350 with 2 Axes>"
      ]
     },
     "metadata": {},
     "output_type": "display_data"
    }
   ],
   "source": [
    "fig = plt.figure(figsize=(7,3.5))\n",
    "\n",
    "# Calculate & plot the drawdown\n",
    "ax1 = fig.add_subplot(1,2,1)\n",
    "\n",
    "# Exponential decay\n",
    "# ax2.plot(t, q_model(t=t, k=k), '.', label=f'q={q0}')\n",
    "\n",
    "# Calculated drydown model\n",
    "# ax2.plot(t, q_y_opt, '.', label=f'q={q1}')\n",
    "ax1.plot(t, q_drydown(t=t, k=k, q=q, delta_theta=delta_theta), label=f'q={q:.2f}', color='darkorange')\n",
    "# ax1.plot(t_d, q_y_opt,  '.', color='darkorange')\n",
    "ax1.plot(t_d, norm_sm[~np.isnan(norm_sm)],  '.', color='gray', label='observed')\n",
    "_exp = exponential_drydown(t, exp_delta_theta, theta_w, tau)\n",
    "ax1.plot(t, (_exp-min_sm)/(max_sm - min_sm), label=f'tau={tau:.2f}', color='darkblue', alpha=0.5)\n",
    "# ax1.plot(t_d, exp_y_opt, '.',  color='darkblue', alpha=0.5)\n",
    "ax1.set_xlabel(\"t\")\n",
    "ax1.set_ylabel(\"theta_norm\")\n",
    "ax1.legend()\n",
    "# ax2.set_ylim([0., 1])\n",
    "\n",
    "# # Calculate & plot d_theta\n",
    "d_theta = loss_model(theta, q, k, theta_wp=0., theta_star=1.)\n",
    "d_theta_obs = loss_model(q_y_opt, q, k, theta_wp=0., theta_star=1.)\n",
    "d_theta_exp = loss_model(theta, q=1, k=k, theta_wp=0., theta_star=1.)\n",
    "d_theta_obs_exp = loss_model(exp_y_opt, q=1, k=k, theta_wp=0., theta_star=1.)\n",
    "\n",
    "ax2 = fig.add_subplot(1,2,2)\n",
    "ax2.plot(theta, d_theta, label=f'Theoretical (q={q:.2f})', color='pink')\n",
    "ax2.plot(q_y_opt, d_theta_obs, '.', label=f'Fitted to observed data', color='darkorange')\n",
    "ax2.plot(theta, loss_model(theta, q=1, k=k), label=f'Exponential', color='skyblue')\n",
    "ax2.plot(exp_y_opt, d_theta_obs_exp, '.', label=f'Exponential', color='darkblue')\n",
    "ax2.set_xlabel(\"theta_norm\")\n",
    "ax2.set_ylabel(\"- dtheta_norm\")\n",
    "ax2.invert_yaxis()\n",
    "ax2.legend()\n",
    "\n",
    "fig.tight_layout()"
   ]
  },
  {
   "cell_type": "code",
   "execution_count": 1,
   "metadata": {},
   "outputs": [
    {
     "ename": "NameError",
     "evalue": "name 'vegetation_order' is not defined",
     "output_type": "error",
     "traceback": [
      "\u001b[0;31m---------------------------------------------------------------------------\u001b[0m",
      "\u001b[0;31mNameError\u001b[0m                                 Traceback (most recent call last)",
      "Cell \u001b[0;32mIn[1], line 3\u001b[0m\n\u001b[1;32m      1\u001b[0m results \u001b[38;5;241m=\u001b[39m {}\n\u001b[1;32m      2\u001b[0m \u001b[38;5;66;03m# For each row in the subset, calculate the loss for a range of theta values\u001b[39;00m\n\u001b[0;32m----> 3\u001b[0m category \u001b[38;5;241m=\u001b[39m \u001b[43mvegetation_order\u001b[49m[\u001b[38;5;241m0\u001b[39m]\n\u001b[1;32m      4\u001b[0m \u001b[38;5;28;01mfor\u001b[39;00m _, row \u001b[38;5;129;01min\u001b[39;00m filtered_df[filtered_df[\u001b[38;5;124m'\u001b[39m\u001b[38;5;124mabbreviation\u001b[39m\u001b[38;5;124m'\u001b[39m] \u001b[38;5;241m==\u001b[39m category]\u001b[38;5;241m.\u001b[39miterrows():\n\u001b[1;32m      5\u001b[0m     q \u001b[38;5;241m=\u001b[39m row[\u001b[38;5;124m'\u001b[39m\u001b[38;5;124mq_q\u001b[39m\u001b[38;5;124m'\u001b[39m]\n",
      "\u001b[0;31mNameError\u001b[0m: name 'vegetation_order' is not defined"
     ]
    }
   ],
   "source": []
  },
  {
   "cell_type": "code",
   "execution_count": null,
   "metadata": {},
   "outputs": [],
   "source": []
  },
  {
   "cell_type": "code",
   "execution_count": null,
   "metadata": {},
   "outputs": [],
   "source": []
  }
 ],
 "metadata": {
  "kernelspec": {
   "display_name": "Python 3 (ipykernel)",
   "language": "python",
   "name": "python3"
  },
  "language_info": {
   "codemirror_mode": {
    "name": "ipython",
    "version": 3
   },
   "file_extension": ".py",
   "mimetype": "text/x-python",
   "name": "python",
   "nbconvert_exporter": "python",
   "pygments_lexer": "ipython3",
   "version": "3.11.4"
  }
 },
 "nbformat": 4,
 "nbformat_minor": 4
}
