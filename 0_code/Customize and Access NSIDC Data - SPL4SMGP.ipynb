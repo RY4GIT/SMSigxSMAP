{
 "cells": [
  {
   "cell_type": "markdown",
   "metadata": {},
   "source": [
    "# Customize and Access NSIDC DAAC Data\n",
    "\n",
    "This notebook will walk you through how to programmatically access data from the NASA National Snow and Ice Data Center Distributed Active Archive Center (NSIDC DAAC) using spatial and temporal filters, as well as how to request customization services including subsetting, reformatting, and reprojection. No Python experience is necessary; each code cell will prompt you with the information needed to configure your data request. The notebook will print the resulting API command that can be used in a command line, browser, or in Python as executed below."
   ]
  },
  {
   "cell_type": "markdown",
   "metadata": {},
   "source": [
    "### Import packages\n"
   ]
  },
  {
   "cell_type": "code",
   "execution_count": 30,
   "metadata": {
    "collapsed": false,
    "jupyter": {
     "outputs_hidden": false
    }
   },
   "outputs": [],
   "source": [
    "import requests\n",
    "import json\n",
    "import zipfile\n",
    "import io\n",
    "import math\n",
    "import os\n",
    "import glob\n",
    "import shutil\n",
    "import pprint\n",
    "import re\n",
    "import time\n",
    "from statistics import mean\n",
    "%matplotlib inline\n",
    "\n",
    "short_name = 'SPL4SMGP'\n",
    "out_path = r'..\\1_data'\n",
    "\n",
    "if not os.path.exists(out_path):\n",
    "   os.makedirs(out_path)\n",
    "\n",
    "if not os.path.exists(os.path.join(out_path, short_name)):\n",
    "   os.makedirs(os.path.join(out_path, short_name))"
   ]
  },
  {
   "cell_type": "markdown",
   "metadata": {},
   "source": [
    "### Delete existing files if you need"
   ]
  },
  {
   "cell_type": "code",
   "execution_count": 31,
   "metadata": {},
   "outputs": [],
   "source": [
    "files = glob.glob(os.path.join('../1_data', short_name, '*.nc'), recursive=True)\n",
    "files\n",
    "for f in files:\n",
    "    try:\n",
    "        os.remove(f)\n",
    "    except OSError as e:\n",
    "        print(\"Error: %s : %s\" % (f, e.strerror))"
   ]
  },
  {
   "cell_type": "markdown",
   "metadata": {},
   "source": [
    "### Input Earthdata Login credentials\n",
    "\n",
    "An Earthdata Login account is required to access data from the NSIDC DAAC. If you do not already have an Earthdata Login account, visit http://urs.earthdata.nasa.gov to register."
   ]
  },
  {
   "cell_type": "code",
   "execution_count": 32,
   "metadata": {},
   "outputs": [],
   "source": [
    "my_credential_path = \"./auth.json\"\n",
    "with open(my_credential_path, 'r') as infile:\n",
    "    my_credentials = json.load(infile)\n",
    "    \n",
    "uid = my_credentials['username'] # Enter Earthdata Login user name\n",
    "pswd = my_credentials['password'] # Enter Earthdata Login password\n",
    "email = my_credentials['email'] # Enter Earthdata login email "
   ]
  },
  {
   "cell_type": "markdown",
   "metadata": {},
   "source": [
    "### Select data set and determine version number\n",
    "\n",
    "Data sets are selected by data set IDs (e.g. MOD10A1), whic are also referred to as a \"short name\". These short names are located at the top of each NSIDC data set landing page in gray above the full title."
   ]
  },
  {
   "cell_type": "code",
   "execution_count": 33,
   "metadata": {},
   "outputs": [
    {
     "name": "stdout",
     "output_type": "stream",
     "text": [
      "The most recent version of  SPL4SMGP  is  007\n"
     ]
    }
   ],
   "source": [
    "# Get json response from CMR collection metadata\n",
    "\n",
    "params = {\n",
    "    'short_name': short_name\n",
    "}\n",
    "\n",
    "cmr_collections_url = 'https://cmr.earthdata.nasa.gov/search/collections.json'\n",
    "response = requests.get(cmr_collections_url, params=params)\n",
    "results = json.loads(response.content)\n",
    "\n",
    "# Find all instances of 'version_id' in metadata and print most recent version number\n",
    "\n",
    "versions = [el['version_id'] for el in results['feed']['entry']]\n",
    "latest_version = max(versions)\n",
    "print('The most recent version of ', short_name, ' is ', latest_version)"
   ]
  },
  {
   "cell_type": "markdown",
   "metadata": {},
   "source": [
    "### Select time period of interest"
   ]
  },
  {
   "cell_type": "code",
   "execution_count": 34,
   "metadata": {},
   "outputs": [],
   "source": [
    "#Input temporal range \n",
    "\n",
    "# start_date = '2015-03-31'# input('Input start date in yyyy-MM-dd format: ')\n",
    "# start_date = '2015-12-05'# input('Input start date in yyyy-MM-dd format: ')\n",
    "# start_date = '2016-05-25'# input('Input start date in yyyy-MM-dd format: ')\n",
    "start_date = '2016-05-25'# input('Input start date in yyyy-MM-dd format: ')\n",
    "start_time = '00:00:00' # input('Input start time in HH:mm:ss format: ')\n",
    "end_date = '2022-03-30' # input('Input end date in yyyy-MM-dd format: ')\n",
    "end_time = '00:00:00' # input('Input end time in HH:mm:ss format: ')\n",
    "\n",
    "temporal = start_date + 'T' + start_time + 'Z' + ',' + end_date + 'T' + end_time + 'Z'"
   ]
  },
  {
   "cell_type": "markdown",
   "metadata": {},
   "source": [
    "### Select area of interest\n",
    "\n",
    "#### Select bounding box or shapefile entry\n",
    "\n",
    "For all data sets, you can enter a bounding box to be applied to your file search. If you are interested in ICESat-2 data, you may also apply a spatial boundary based on a vector-based spatial data file."
   ]
  },
  {
   "cell_type": "code",
   "execution_count": 35,
   "metadata": {},
   "outputs": [],
   "source": [
    "# Enter spatial coordinates in decimal degrees, with west longitude and south latitude reported as negative degrees. Do not include spaces between coordinates.\n",
    "# Example over the state of Colorado: -109,37,-102,41\n",
    "# bounding_box = '147.534,-35.324,147.535,-35.323' #input('Input spatial coordinates in the following order: lower left longitude,lower left latitude,upper right longitude,upper right latitude. Leave blank if you wish to provide a vector-based spatial file for ICESat-2 search and subsetting:')"
   ]
  },
  {
   "cell_type": "markdown",
   "metadata": {},
   "source": [
    "### Determine how many granules exist over this time and area of interest."
   ]
  },
  {
   "cell_type": "code",
   "execution_count": 36,
   "metadata": {},
   "outputs": [
    {
     "name": "stdout",
     "output_type": "stream",
     "text": [
      "There are 17082 granules of SPL4SMGP version 007 over my area and time of interest.\n"
     ]
    }
   ],
   "source": [
    "# Create CMR parameters used for granule search. Modify params depending on bounding_box or polygon input.\n",
    "\n",
    "granule_search_url = 'https://cmr.earthdata.nasa.gov/search/granules'\n",
    "aoi='1'\n",
    "if aoi == '1':\n",
    "# bounding box input:\n",
    "    search_params = {\n",
    "    'short_name': short_name,\n",
    "    'version': latest_version,\n",
    "    'temporal': temporal,\n",
    "    'page_size': 100,\n",
    "    'page_num': 1,\n",
    "    # 'bounding_box': bounding_box\n",
    "    }\n",
    "\n",
    "granules = []\n",
    "headers={'Accept': 'application/json'}\n",
    "while True:\n",
    "    response = requests.get(granule_search_url, params=search_params, headers=headers)\n",
    "    results = json.loads(response.content)\n",
    "\n",
    "    if len(results['feed']['entry']) == 0:\n",
    "        # Out of results, so break out of loop\n",
    "        break\n",
    "\n",
    "    # Collect results and increment page_num\n",
    "    granules.extend(results['feed']['entry'])\n",
    "    search_params['page_num'] += 1\n",
    "\n",
    "print('There are', len(granules), 'granules of', short_name, 'version', latest_version, 'over my area and time of interest.')\n"
   ]
  },
  {
   "cell_type": "markdown",
   "metadata": {},
   "source": [
    "### Determine the average size of those granules as well as the total volume"
   ]
  },
  {
   "cell_type": "code",
   "execution_count": 37,
   "metadata": {},
   "outputs": [
    {
     "name": "stdout",
     "output_type": "stream",
     "text": [
      "The average size of each granule is 142.73 MB and the total size of all 17082 granules is 2438061.22 MB\n"
     ]
    }
   ],
   "source": [
    "granule_sizes = [float(granule['granule_size']) for granule in granules]\n",
    "print(f'The average size of each granule is {mean(granule_sizes):.2f} MB and the total size of all {len(granules)} granules is {sum(granule_sizes):.2f} MB')\n"
   ]
  },
  {
   "cell_type": "markdown",
   "metadata": {},
   "source": [
    "Note that subsetting, reformatting, or reprojecting can alter the size of the granules if those services are applied to your request."
   ]
  },
  {
   "cell_type": "markdown",
   "metadata": {},
   "source": [
    "### Select the subsetting, reformatting, and reprojection services enabled for your data set of interest."
   ]
  },
  {
   "cell_type": "markdown",
   "metadata": {},
   "source": [
    "The NSIDC DAAC supports customization services on many of our NASA Earthdata mission collections. Let's discover whether or not our data set has these services available. If services are available, we will also determine the specific service options supported for this data set and select which of these services we want to request. "
   ]
  },
  {
   "cell_type": "markdown",
   "metadata": {},
   "source": [
    "### Query the service capability endpoint to gather service information needed below"
   ]
  },
  {
   "cell_type": "code",
   "execution_count": 38,
   "metadata": {},
   "outputs": [
    {
     "name": "stdout",
     "output_type": "stream",
     "text": [
      "<Response [200]>\n"
     ]
    }
   ],
   "source": [
    "# Query service capability URL \n",
    "from xml.etree import ElementTree as ET\n",
    "capability_url = f'https://n5eil02u.ecs.nsidc.org/egi/capabilities/{short_name}.{latest_version}.xml'\n",
    "\n",
    "# Create session to store cookie and pass credentials to capabilities url\n",
    "session = requests.session()\n",
    "s = session.get(capability_url)\n",
    "response = session.get(s.url,auth=(uid, pswd))\n",
    "print(response)\n",
    "root = ET.fromstring(response.content)"
   ]
  },
  {
   "cell_type": "code",
   "execution_count": 39,
   "metadata": {},
   "outputs": [],
   "source": [
    "#collect lists with each service option\n",
    "subagent = [subset_agent.attrib for subset_agent in root.iter('SubsetAgent')]\n",
    "if len(subagent) > 0 :\n",
    "\n",
    "    # variable subsetting\n",
    "    variables = [SubsetVariable.attrib for SubsetVariable in root.iter('SubsetVariable')]  \n",
    "    variables_raw = [variables[i]['value'] for i in range(len(variables))]\n",
    "    variables_join = [''.join(('/',v)) if v.startswith('/') == False else v for v in variables_raw] \n",
    "    variable_vals = [v.replace(':', '/') for v in variables_join]\n",
    "\n",
    "    # reformatting\n",
    "    formats = [Format.attrib for Format in root.iter('Format')]\n",
    "    format_vals = [formats[i]['value'] for i in range(len(formats))]\n",
    "    format_vals.remove('')\n",
    "\n",
    "    # reprojection options\n",
    "    projections = [Projection.attrib for Projection in root.iter('Projection')]"
   ]
  },
  {
   "cell_type": "markdown",
   "metadata": {},
   "source": []
  },
  {
   "cell_type": "markdown",
   "metadata": {},
   "source": [
    "### Select subsetting, reformatting, and reprojection service options, if available."
   ]
  },
  {
   "cell_type": "code",
   "execution_count": 40,
   "metadata": {},
   "outputs": [
    {
     "name": "stdout",
     "output_type": "stream",
     "text": [
      "These reformatting options are available: ['HDF-EOS5', 'NetCDF4-CF', 'ASCII', 'KML', 'GeoTIFF']\n",
      "These reprojection options are available with your requested format: ['GEOGRAPHIC', 'UNIVERSAL TRANSVERSE MERCATOR', 'CYLINDRICAL EQUAL AREA', 'NORTH POLAR STEREOGRAPHIC', 'SOUTH POLAR STEREOGRAPHIC']\n"
     ]
    }
   ],
   "source": [
    "#print service information depending on service availability and select service options\n",
    "    \n",
    "if len(subagent) < 1 :\n",
    "    print('No services exist for', short_name, 'version', latest_version)\n",
    "    agent = 'NO'\n",
    "    bbox = ''\n",
    "    time_var = ''\n",
    "    reformat = ''\n",
    "    projection = ''\n",
    "    projection_parameters = ''\n",
    "    coverage = ''\n",
    "    Boundingshape = ''\n",
    "else:\n",
    "    # These reformatting options are available: ['HDF-EOS5', 'NetCDF4-CF', 'ASCII', 'KML', 'GeoTIFF']\n",
    "    # These reprojection options are available with your requested format: ['GEOGRAPHIC', 'UNIVERSAL TRANSVERSE MERCATOR', 'CYLINDRICAL EQUAL AREA', 'NORTH POLAR STEREOGRAPHIC', 'SOUTH POLAR STEREOGRAPHIC']\n",
    "    agent = ''\n",
    "    subdict = subagent[0]\n",
    "    if subdict['spatialSubsetting'] == 'true' and aoi == '1':\n",
    "        Boundingshape = ''\n",
    "        ss = 'n' # input('Subsetting by bounding box, based on the area of interest inputted above, is available. Would you like to request this service? (y/n)')\n",
    "        if ss == 'y': bbox = bounding_box\n",
    "        else: bbox = '' \n",
    "    if subdict['spatialSubsettingShapefile'] == 'true' and aoi == '2':\n",
    "        bbox = ''\n",
    "        ps = 'n' # input('Subsetting by geospatial file (Esri Shapefile, KML, etc.) is available. Would you like to request this service? (y/n)')\n",
    "        if ps == 'y': Boundingshape = geojson\n",
    "        else: Boundingshape = '' \n",
    "    if subdict['temporalSubsetting'] == 'true':\n",
    "        ts = 'y'\n",
    "        if ts == 'y': time_var = start_date + 'T' + start_time + ',' + end_date + 'T' + end_time \n",
    "        else: time_var = ''\n",
    "    else: time_var = ''\n",
    "    if len(format_vals) > 0 :\n",
    "        print('These reformatting options are available:', format_vals)\n",
    "        reformat = 'NetCDF4-CF'\n",
    "        if reformat == 'n': reformat = '' # Catch user input of 'n' instead of leaving blank\n",
    "    else: \n",
    "        reformat = ''\n",
    "        projection = ''\n",
    "        projection_parameters = ''\n",
    "    if len(projections) > 0:\n",
    "        valid_proj = [] # select reprojection options based on reformatting selection\n",
    "        for i in range(len(projections)):\n",
    "            if 'excludeFormat' in projections[i]:\n",
    "                exclformats_str = projections[i]['excludeFormat'] \n",
    "                exclformats_list = exclformats_str.split(',')\n",
    "            if ('excludeFormat' not in projections[i] or reformat not in exclformats_list) and projections[i]['value'] != 'NO_CHANGE': valid_proj.append(projections[i]['value'])\n",
    "        if len(valid_proj) > 0:\n",
    "            print('These reprojection options are available with your requested format:', valid_proj)\n",
    "            projection = 'GEOGRAPHIC' #input('If you would like to reproject, copy and paste the reprojection option you would like (make sure to omit quotes), otherwise leave blank.')\n",
    "            # Enter required parameters for UTM North and South\n",
    "            if projection == 'UTM NORTHERN HEMISPHERE' or projection == 'UTM SOUTHERN HEMISPHERE': \n",
    "                NZone = input('Please enter a UTM zone (1 to 60 for Northern Hemisphere; -60 to -1 for Southern Hemisphere):')\n",
    "                projection_parameters = str('NZone:' + NZone)\n",
    "            else: projection_parameters = ''\n",
    "        else: \n",
    "            print('No reprojection options are supported with your requested format')\n",
    "            projection = ''\n",
    "            projection_parameters = ''\n",
    "    else:\n",
    "        print('No reprojection options are supported with your requested format')\n",
    "        projection = ''\n",
    "        projection_parameters = ''\n"
   ]
  },
  {
   "cell_type": "code",
   "execution_count": 41,
   "metadata": {},
   "outputs": [
    {
     "name": "stdout",
     "output_type": "stream",
     "text": [
      "/\n",
      "//cell_column\n",
      "//cell_lat\n",
      "//cell_lon\n",
      "//cell_row\n",
      "/Geophysical_Data\n",
      "/Geophysical_Data/baseflow_flux\n",
      "/Geophysical_Data/depth_to_water_table_from_surface_in_peat\n",
      "/Geophysical_Data/free_surface_water_on_peat_flux\n",
      "/Geophysical_Data/heat_flux_ground\n",
      "/Geophysical_Data/heat_flux_latent\n",
      "/Geophysical_Data/heat_flux_sensible\n",
      "/Geophysical_Data/height_lowatmmodlay\n",
      "/Geophysical_Data/land_evapotranspiration_flux\n",
      "/Geophysical_Data/land_fraction_saturated\n",
      "/Geophysical_Data/land_fraction_snow_covered\n",
      "/Geophysical_Data/land_fraction_unsaturated\n",
      "/Geophysical_Data/land_fraction_wilting\n",
      "/Geophysical_Data/leaf_area_index\n",
      "/Geophysical_Data/mwrtm_vegopacity\n",
      "/Geophysical_Data/net_downward_longwave_flux\n",
      "/Geophysical_Data/net_downward_shortwave_flux\n",
      "/Geophysical_Data/overland_runoff_flux\n",
      "/Geophysical_Data/precipitation_total_surface_flux\n",
      "/Geophysical_Data/radiation_longwave_absorbed_flux\n",
      "/Geophysical_Data/radiation_shortwave_downward_flux\n",
      "/Geophysical_Data/sm_profile\n",
      "/Geophysical_Data/sm_profile_pctl\n",
      "/Geophysical_Data/sm_profile_wetness\n",
      "/Geophysical_Data/sm_rootzone\n",
      "/Geophysical_Data/sm_rootzone_pctl\n",
      "/Geophysical_Data/sm_rootzone_wetness\n",
      "/Geophysical_Data/sm_surface\n",
      "/Geophysical_Data/sm_surface_wetness\n",
      "/Geophysical_Data/snow_depth\n",
      "/Geophysical_Data/snowfall_surface_flux\n",
      "/Geophysical_Data/snow_mass\n",
      "/Geophysical_Data/snow_melt_flux\n",
      "/Geophysical_Data/soil_temp_layer1\n",
      "/Geophysical_Data/soil_temp_layer2\n",
      "/Geophysical_Data/soil_temp_layer3\n",
      "/Geophysical_Data/soil_temp_layer4\n",
      "/Geophysical_Data/soil_temp_layer5\n",
      "/Geophysical_Data/soil_temp_layer6\n",
      "/Geophysical_Data/soil_water_infiltration_flux\n",
      "/Geophysical_Data/specific_humidity_lowatmmodlay\n",
      "/Geophysical_Data/surface_pressure\n",
      "/Geophysical_Data/surface_temp\n",
      "/Geophysical_Data/temp_lowatmmodlay\n",
      "/Geophysical_Data/vegetation_greenness_fraction\n",
      "/Geophysical_Data/windspeed_lowatmmodlay\n"
     ]
    }
   ],
   "source": [
    "print(*variable_vals, sep = \"\\n\") "
   ]
  },
  {
   "cell_type": "code",
   "execution_count": 42,
   "metadata": {},
   "outputs": [
    {
     "name": "stdout",
     "output_type": "stream",
     "text": [
      "The SPL4SMGP variables to select from include:\n"
     ]
    }
   ],
   "source": [
    "# Select variable subsetting\n",
    "if len(subagent) > 0 :\n",
    "    if len(variable_vals) > 0:\n",
    "        v = 'y'\n",
    "        if v == 'y':\n",
    "            print('The', short_name, 'variables to select from include:')\n",
    "            \n",
    "            coverage = '/Geophysical_Data/precipitation_total_surface_flux,/cell_column,/cell_row,/cell_lat,/cell_lon'\n",
    "        else: coverage = ''\n",
    "\n",
    "#no services selected\n",
    "if reformat == '' and projection == '' and projection_parameters == '' and coverage == '' and time_var == '' and bbox == '' and Boundingshape == '':\n",
    "    agent = 'NO'"
   ]
  },
  {
   "cell_type": "markdown",
   "metadata": {},
   "source": [
    "### Select data access configurations\n",
    "\n",
    "The data request can be accessed asynchronously or synchronously. The asynchronous option will allow concurrent requests to be queued and processed without the need for a continuous connection. Those requested orders will be delivered to the specified email address, or they can be accessed programmatically as shown below. Synchronous requests will automatically download the data as soon as processing is complete. The granule limits differ between these two options:\n",
    "\n",
    "Maximum granules per synchronous request = 100 \n",
    "\n",
    "Maximum granules per asynchronous request = 2000 \n",
    "\n",
    "We will set the access configuration depending on the number of granules requested. For requests over 2000 granules, we will produce multiple API endpoints for each 2000-granule order. Please note that synchronous requests may take a long time to complete depending on request parameters, so the number of granules may need to be adjusted if you are experiencing performance issues. The `page_size` parameter can be used to adjust this number. "
   ]
  },
  {
   "cell_type": "code",
   "execution_count": 43,
   "metadata": {},
   "outputs": [
    {
     "name": "stdout",
     "output_type": "stream",
     "text": [
      "There will be 9 total order(s) processed for our SPL4SMGP request.\n"
     ]
    }
   ],
   "source": [
    "#Set NSIDC data access base URL\n",
    "base_url = 'https://n5eil02u.ecs.nsidc.org/egi/request'\n",
    "\n",
    "#Set the request mode to asynchronous if the number of granules is over 100, otherwise synchronous is enabled by default\n",
    "if len(granules) > 100:\n",
    "    request_mode = 'async'\n",
    "    page_size = 2000\n",
    "else: \n",
    "    page_size = 100\n",
    "    request_mode = 'stream'\n",
    "\n",
    "#Determine number of orders needed for requests over 2000 granules. \n",
    "page_num = math.ceil(len(granules)/page_size)\n",
    "\n",
    "print('There will be', page_num, 'total order(s) processed for our', short_name, 'request.')"
   ]
  },
  {
   "cell_type": "markdown",
   "metadata": {},
   "source": [
    "### Create the API endpoint \n",
    "\n",
    "Programmatic API requests are formatted as HTTPS URLs that contain key-value-pairs specifying the service operations that we specified above. The following command can be executed via command line, a web browser, or in Python below. "
   ]
  },
  {
   "cell_type": "code",
   "execution_count": 44,
   "metadata": {},
   "outputs": [
    {
     "name": "stdout",
     "output_type": "stream",
     "text": [
      "https://n5eil02u.ecs.nsidc.org/egi/request?short_name=SPL4SMGP&version=007&temporal=2016-05-25T00:00:00Z,2022-03-30T00:00:00Z&format=NetCDF4-CF&projection=GEOGRAPHIC&Coverage=/Geophysical_Data/precipitation_total_surface_flux,/cell_column,/cell_row,/cell_lat,/cell_lon&page_size=2000&request_mode=async&email=raraki8159@sdsu.edu&page_num=1\n",
      "https://n5eil02u.ecs.nsidc.org/egi/request?short_name=SPL4SMGP&version=007&temporal=2016-05-25T00:00:00Z,2022-03-30T00:00:00Z&format=NetCDF4-CF&projection=GEOGRAPHIC&Coverage=/Geophysical_Data/precipitation_total_surface_flux,/cell_column,/cell_row,/cell_lat,/cell_lon&page_size=2000&request_mode=async&email=raraki8159@sdsu.edu&page_num=2\n",
      "https://n5eil02u.ecs.nsidc.org/egi/request?short_name=SPL4SMGP&version=007&temporal=2016-05-25T00:00:00Z,2022-03-30T00:00:00Z&format=NetCDF4-CF&projection=GEOGRAPHIC&Coverage=/Geophysical_Data/precipitation_total_surface_flux,/cell_column,/cell_row,/cell_lat,/cell_lon&page_size=2000&request_mode=async&email=raraki8159@sdsu.edu&page_num=3\n",
      "https://n5eil02u.ecs.nsidc.org/egi/request?short_name=SPL4SMGP&version=007&temporal=2016-05-25T00:00:00Z,2022-03-30T00:00:00Z&format=NetCDF4-CF&projection=GEOGRAPHIC&Coverage=/Geophysical_Data/precipitation_total_surface_flux,/cell_column,/cell_row,/cell_lat,/cell_lon&page_size=2000&request_mode=async&email=raraki8159@sdsu.edu&page_num=4\n",
      "https://n5eil02u.ecs.nsidc.org/egi/request?short_name=SPL4SMGP&version=007&temporal=2016-05-25T00:00:00Z,2022-03-30T00:00:00Z&format=NetCDF4-CF&projection=GEOGRAPHIC&Coverage=/Geophysical_Data/precipitation_total_surface_flux,/cell_column,/cell_row,/cell_lat,/cell_lon&page_size=2000&request_mode=async&email=raraki8159@sdsu.edu&page_num=5\n",
      "https://n5eil02u.ecs.nsidc.org/egi/request?short_name=SPL4SMGP&version=007&temporal=2016-05-25T00:00:00Z,2022-03-30T00:00:00Z&format=NetCDF4-CF&projection=GEOGRAPHIC&Coverage=/Geophysical_Data/precipitation_total_surface_flux,/cell_column,/cell_row,/cell_lat,/cell_lon&page_size=2000&request_mode=async&email=raraki8159@sdsu.edu&page_num=6\n",
      "https://n5eil02u.ecs.nsidc.org/egi/request?short_name=SPL4SMGP&version=007&temporal=2016-05-25T00:00:00Z,2022-03-30T00:00:00Z&format=NetCDF4-CF&projection=GEOGRAPHIC&Coverage=/Geophysical_Data/precipitation_total_surface_flux,/cell_column,/cell_row,/cell_lat,/cell_lon&page_size=2000&request_mode=async&email=raraki8159@sdsu.edu&page_num=7\n",
      "https://n5eil02u.ecs.nsidc.org/egi/request?short_name=SPL4SMGP&version=007&temporal=2016-05-25T00:00:00Z,2022-03-30T00:00:00Z&format=NetCDF4-CF&projection=GEOGRAPHIC&Coverage=/Geophysical_Data/precipitation_total_surface_flux,/cell_column,/cell_row,/cell_lat,/cell_lon&page_size=2000&request_mode=async&email=raraki8159@sdsu.edu&page_num=8\n",
      "https://n5eil02u.ecs.nsidc.org/egi/request?short_name=SPL4SMGP&version=007&temporal=2016-05-25T00:00:00Z,2022-03-30T00:00:00Z&format=NetCDF4-CF&projection=GEOGRAPHIC&Coverage=/Geophysical_Data/precipitation_total_surface_flux,/cell_column,/cell_row,/cell_lat,/cell_lon&page_size=2000&request_mode=async&email=raraki8159@sdsu.edu&page_num=9\n"
     ]
    }
   ],
   "source": [
    "if aoi == '1':\n",
    "# bounding box search and subset:\n",
    "    param_dict = {'short_name': short_name, \n",
    "                  'version': latest_version, \n",
    "                  'temporal': temporal, \n",
    "                  'time': time_var, \n",
    "                  # 'bounding_box': bounding_box, \n",
    "                  # 'bbox': bbox, \n",
    "                  'format': reformat, \n",
    "                  'projection': projection, \n",
    "                  'projection_parameters': projection_parameters, \n",
    "                  'Coverage': coverage, \n",
    "                  'page_size': page_size, \n",
    "                  'request_mode': request_mode, \n",
    "                  'agent': agent, \n",
    "                  'email': email, }\n",
    "\n",
    "#Remove blank key-value-pairs\n",
    "param_dict = {k: v for k, v in param_dict.items() if v != ''}\n",
    "\n",
    "#Convert to string\n",
    "param_string = '&'.join(\"{!s}={!r}\".format(k,v) for (k,v) in param_dict.items())\n",
    "param_string = param_string.replace(\"'\",\"\")\n",
    "\n",
    "#Print API base URL + request parameters\n",
    "endpoint_list = [] \n",
    "for i in range(page_num):\n",
    "    page_val = i + 1\n",
    "    API_request = api_request = f'{base_url}?{param_string}&page_num={page_val}'\n",
    "    endpoint_list.append(API_request)\n",
    "\n",
    "print(*endpoint_list, sep = \"\\n\") "
   ]
  },
  {
   "cell_type": "markdown",
   "metadata": {},
   "source": [
    "### Request data"
   ]
  },
  {
   "cell_type": "markdown",
   "metadata": {},
   "source": [
    "We will now download data using the Python requests library. The data will be downloaded directly to this notebook directory in a new Outputs folder. The progress of each order will be reported."
   ]
  },
  {
   "cell_type": "code",
   "execution_count": 46,
   "metadata": {},
   "outputs": [
    {
     "name": "stdout",
     "output_type": "stream",
     "text": [
      "Order:  1\n",
      "Request HTTP response:  201\n",
      "Order request URL:  https://n5eil02u.ecs.nsidc.org/egi/request?short_name=SPL4SMGP&version=007&temporal=2016-05-25T00%3A00%3A00Z%2C2022-03-30T00%3A00%3A00Z&format=NetCDF4-CF&projection=GEOGRAPHIC&Coverage=%2FGeophysical_Data%2Fprecipitation_total_surface_flux%2C%2Fcell_column%2C%2Fcell_row%2C%2Fcell_lat%2C%2Fcell_lon&page_size=2000&request_mode=async&email=raraki8159%40sdsu.edu\n",
      "order ID:  5000003983688\n",
      "status URL:  https://n5eil02u.ecs.nsidc.org/egi/request/5000003983688\n",
      "HTTP response from order response URL:  201\n",
      "Data request  1  is submitting...\n",
      "Initial request status is  pending\n",
      "Status is not complete. Trying again.\n",
      "Status is not complete. Trying again.\n",
      "Status is not complete. Trying again.\n",
      "Status is not complete. Trying again.\n",
      "Status is not complete. Trying again.\n",
      "Status is not complete. Trying again.\n",
      "Status is not complete. Trying again.\n",
      "Status is not complete. Trying again.\n",
      "Status is not complete. Trying again.\n",
      "Status is not complete. Trying again.\n",
      "Status is not complete. Trying again.\n",
      "Status is not complete. Trying again.\n",
      "Status is not complete. Trying again.\n",
      "Status is not complete. Trying again.\n",
      "Status is not complete. Trying again.\n",
      "Status is not complete. Trying again.\n",
      "Status is not complete. Trying again.\n",
      "Status is not complete. Trying again.\n",
      "Status is not complete. Trying again.\n",
      "Status is not complete. Trying again.\n",
      "Status is not complete. Trying again.\n",
      "Status is not complete. Trying again.\n",
      "Status is not complete. Trying again.\n",
      "Status is not complete. Trying again.\n",
      "Status is not complete. Trying again.\n",
      "Status is not complete. Trying again.\n",
      "Status is not complete. Trying again.\n",
      "Status is not complete. Trying again.\n",
      "Status is not complete. Trying again.\n",
      "Status is not complete. Trying again.\n",
      "Status is not complete. Trying again.\n",
      "Status is not complete. Trying again.\n",
      "Status is not complete. Trying again.\n",
      "Status is not complete. Trying again.\n",
      "Status is not complete. Trying again.\n",
      "Status is not complete. Trying again.\n",
      "Status is not complete. Trying again.\n",
      "Status is not complete. Trying again.\n",
      "Status is not complete. Trying again.\n",
      "Status is not complete. Trying again.\n",
      "Status is not complete. Trying again.\n",
      "Status is not complete. Trying again.\n",
      "Status is not complete. Trying again.\n",
      "Status is not complete. Trying again.\n",
      "Status is not complete. Trying again.\n",
      "Status is not complete. Trying again.\n",
      "Status is not complete. Trying again.\n",
      "Status is not complete. Trying again.\n",
      "Status is not complete. Trying again.\n",
      "Status is not complete. Trying again.\n",
      "Status is not complete. Trying again.\n",
      "Status is not complete. Trying again.\n",
      "Status is not complete. Trying again.\n",
      "Status is not complete. Trying again.\n",
      "Status is not complete. Trying again.\n",
      "Status is not complete. Trying again.\n",
      "Status is not complete. Trying again.\n",
      "Status is not complete. Trying again.\n",
      "Status is not complete. Trying again.\n",
      "Status is not complete. Trying again.\n",
      "Status is not complete. Trying again.\n",
      "Status is not complete. Trying again.\n",
      "Status is not complete. Trying again.\n",
      "Status is not complete. Trying again.\n",
      "Status is not complete. Trying again.\n",
      "Status is not complete. Trying again.\n",
      "Status is not complete. Trying again.\n",
      "Status is not complete. Trying again.\n",
      "Status is not complete. Trying again.\n",
      "Status is not complete. Trying again.\n",
      "Status is not complete. Trying again.\n",
      "Status is not complete. Trying again.\n",
      "Status is not complete. Trying again.\n",
      "Status is not complete. Trying again.\n",
      "Status is not complete. Trying again.\n",
      "Status is not complete. Trying again.\n",
      "Status is not complete. Trying again.\n",
      "Status is not complete. Trying again.\n",
      "Status is not complete. Trying again.\n",
      "Status is not complete. Trying again.\n",
      "Status is not complete. Trying again.\n",
      "Status is not complete. Trying again.\n",
      "Status is not complete. Trying again.\n",
      "Status is not complete. Trying again.\n",
      "Status is not complete. Trying again.\n",
      "Status is not complete. Trying again.\n",
      "Status is not complete. Trying again.\n",
      "Status is not complete. Trying again.\n",
      "Status is not complete. Trying again.\n",
      "Status is not complete. Trying again.\n",
      "Status is not complete. Trying again.\n",
      "Status is not complete. Trying again.\n",
      "Status is not complete. Trying again.\n",
      "Status is not complete. Trying again.\n",
      "Status is not complete. Trying again.\n",
      "Status is not complete. Trying again.\n",
      "Status is not complete. Trying again.\n",
      "Status is not complete. Trying again.\n",
      "Status is not complete. Trying again.\n",
      "Status is not complete. Trying again.\n",
      "Status is not complete. Trying again.\n",
      "Status is not complete. Trying again.\n",
      "Status is not complete. Trying again.\n",
      "Status is not complete. Trying again.\n",
      "Status is not complete. Trying again.\n",
      "Status is not complete. Trying again.\n",
      "Status is not complete. Trying again.\n",
      "Status is not complete. Trying again.\n",
      "Status is not complete. Trying again.\n",
      "Status is not complete. Trying again.\n",
      "Status is not complete. Trying again.\n",
      "Status is not complete. Trying again.\n",
      "Status is not complete. Trying again.\n",
      "Status is not complete. Trying again.\n",
      "Status is not complete. Trying again.\n",
      "Status is not complete. Trying again.\n",
      "Status is not complete. Trying again.\n",
      "Status is not complete. Trying again.\n",
      "Status is not complete. Trying again.\n",
      "Status is not complete. Trying again.\n",
      "Status is not complete. Trying again.\n",
      "Status is not complete. Trying again.\n",
      "Status is not complete. Trying again.\n",
      "Status is not complete. Trying again.\n",
      "Status is not complete. Trying again.\n",
      "Status is not complete. Trying again.\n",
      "Status is not complete. Trying again.\n",
      "Status is not complete. Trying again.\n",
      "Status is not complete. Trying again.\n",
      "Status is not complete. Trying again.\n",
      "Status is not complete. Trying again.\n",
      "Status is not complete. Trying again.\n",
      "Status is not complete. Trying again.\n",
      "Status is not complete. Trying again.\n",
      "Status is not complete. Trying again.\n",
      "Status is not complete. Trying again.\n",
      "Status is not complete. Trying again.\n",
      "Status is not complete. Trying again.\n",
      "Status is not complete. Trying again.\n",
      "Status is not complete. Trying again.\n",
      "Status is not complete. Trying again.\n",
      "Status is not complete. Trying again.\n",
      "Status is not complete. Trying again.\n",
      "Status is not complete. Trying again.\n",
      "Status is not complete. Trying again.\n",
      "Status is not complete. Trying again.\n",
      "Status is not complete. Trying again.\n",
      "Status is not complete. Trying again.\n",
      "Status is not complete. Trying again.\n",
      "Zip download URL:  https://n5eil02u.ecs.nsidc.org/esir/5000003983688.zip?1\n",
      "Beginning download of zipped output...\n",
      "Zip download URL:  https://n5eil02u.ecs.nsidc.org/esir/5000003983688.zip?2\n",
      "Beginning download of zipped output...\n",
      "Zip download URL:  https://n5eil02u.ecs.nsidc.org/esir/5000003983688.zip?3\n",
      "Beginning download of zipped output...\n"
     ]
    },
    {
     "ename": "HTTPError",
     "evalue": "404 Client Error: 404 for url: https://n5eil02u.ecs.nsidc.org/esir/5000003983688.zip?3",
     "output_type": "error",
     "traceback": [
      "\u001b[1;31m---------------------------------------------------------------------------\u001b[0m",
      "\u001b[1;31mHTTPError\u001b[0m                                 Traceback (most recent call last)",
      "\u001b[1;32m~\\AppData\\Local\\Temp\\ipykernel_36160\\1192664983.py\u001b[0m in \u001b[0;36m<module>\u001b[1;34m\u001b[0m\n\u001b[0;32m     84\u001b[0m                 \u001b[0mzip_response\u001b[0m \u001b[1;33m=\u001b[0m \u001b[0msession\u001b[0m\u001b[1;33m.\u001b[0m\u001b[0mget\u001b[0m\u001b[1;33m(\u001b[0m\u001b[0mdownloadURL\u001b[0m\u001b[1;33m)\u001b[0m\u001b[1;33m\u001b[0m\u001b[1;33m\u001b[0m\u001b[0m\n\u001b[0;32m     85\u001b[0m                 \u001b[1;31m# Raise bad request: Loop will stop for bad response code.\u001b[0m\u001b[1;33m\u001b[0m\u001b[1;33m\u001b[0m\u001b[0m\n\u001b[1;32m---> 86\u001b[1;33m                 \u001b[0mzip_response\u001b[0m\u001b[1;33m.\u001b[0m\u001b[0mraise_for_status\u001b[0m\u001b[1;33m(\u001b[0m\u001b[1;33m)\u001b[0m\u001b[1;33m\u001b[0m\u001b[1;33m\u001b[0m\u001b[0m\n\u001b[0m\u001b[0;32m     87\u001b[0m                 \u001b[1;32mwith\u001b[0m \u001b[0mzipfile\u001b[0m\u001b[1;33m.\u001b[0m\u001b[0mZipFile\u001b[0m\u001b[1;33m(\u001b[0m\u001b[0mio\u001b[0m\u001b[1;33m.\u001b[0m\u001b[0mBytesIO\u001b[0m\u001b[1;33m(\u001b[0m\u001b[0mzip_response\u001b[0m\u001b[1;33m.\u001b[0m\u001b[0mcontent\u001b[0m\u001b[1;33m)\u001b[0m\u001b[1;33m)\u001b[0m \u001b[1;32mas\u001b[0m \u001b[0mz\u001b[0m\u001b[1;33m:\u001b[0m\u001b[1;33m\u001b[0m\u001b[1;33m\u001b[0m\u001b[0m\n\u001b[0;32m     88\u001b[0m                     \u001b[0mz\u001b[0m\u001b[1;33m.\u001b[0m\u001b[0mextractall\u001b[0m\u001b[1;33m(\u001b[0m\u001b[0mpath\u001b[0m\u001b[1;33m)\u001b[0m\u001b[1;33m\u001b[0m\u001b[1;33m\u001b[0m\u001b[0m\n",
      "\u001b[1;32mc:\\ProgramData\\Anaconda3\\lib\\site-packages\\requests\\models.py\u001b[0m in \u001b[0;36mraise_for_status\u001b[1;34m(self)\u001b[0m\n\u001b[0;32m   1019\u001b[0m \u001b[1;33m\u001b[0m\u001b[0m\n\u001b[0;32m   1020\u001b[0m         \u001b[1;32mif\u001b[0m \u001b[0mhttp_error_msg\u001b[0m\u001b[1;33m:\u001b[0m\u001b[1;33m\u001b[0m\u001b[1;33m\u001b[0m\u001b[0m\n\u001b[1;32m-> 1021\u001b[1;33m             \u001b[1;32mraise\u001b[0m \u001b[0mHTTPError\u001b[0m\u001b[1;33m(\u001b[0m\u001b[0mhttp_error_msg\u001b[0m\u001b[1;33m,\u001b[0m \u001b[0mresponse\u001b[0m\u001b[1;33m=\u001b[0m\u001b[0mself\u001b[0m\u001b[1;33m)\u001b[0m\u001b[1;33m\u001b[0m\u001b[1;33m\u001b[0m\u001b[0m\n\u001b[0m\u001b[0;32m   1022\u001b[0m \u001b[1;33m\u001b[0m\u001b[0m\n\u001b[0;32m   1023\u001b[0m     \u001b[1;32mdef\u001b[0m \u001b[0mclose\u001b[0m\u001b[1;33m(\u001b[0m\u001b[0mself\u001b[0m\u001b[1;33m)\u001b[0m\u001b[1;33m:\u001b[0m\u001b[1;33m\u001b[0m\u001b[1;33m\u001b[0m\u001b[0m\n",
      "\u001b[1;31mHTTPError\u001b[0m: 404 Client Error: 404 for url: https://n5eil02u.ecs.nsidc.org/esir/5000003983688.zip?3"
     ]
    }
   ],
   "source": [
    "# Create an output folder if the folder does not already exist.\n",
    "path = os.path.join(out_path, short_name)\n",
    "if not os.path.exists(path):\n",
    "    os.mkdir(path)\n",
    "\n",
    "# Different access methods depending on request mode:\n",
    "\n",
    "if request_mode=='async':\n",
    "    # Request data service for each page number, and unzip outputs\n",
    "    for i in range(page_num):\n",
    "        page_val = i + 1\n",
    "        print('Order: ', page_val)\n",
    "\n",
    "    # For all requests other than spatial file upload, use get function\n",
    "        request = session.get(base_url, params=param_dict)\n",
    "\n",
    "        print('Request HTTP response: ', request.status_code)\n",
    "\n",
    "    # Raise bad request: Loop will stop for bad response code.\n",
    "        request.raise_for_status()\n",
    "        print('Order request URL: ', request.url)\n",
    "        esir_root = ET.fromstring(request.content)\n",
    "        # print('Order request response XML content: ', request.content)\n",
    "\n",
    "    #Look up order ID\n",
    "        orderlist = []   \n",
    "        for order in esir_root.findall(\"./order/\"):\n",
    "            orderlist.append(order.text)\n",
    "        orderID = orderlist[0]\n",
    "        print('order ID: ', orderID)\n",
    "\n",
    "    #Create status URL\n",
    "        statusURL = base_url + '/' + orderID\n",
    "        print('status URL: ', statusURL)\n",
    "\n",
    "    #Find order status\n",
    "        request_response = session.get(statusURL)    \n",
    "        print('HTTP response from order response URL: ', request_response.status_code)\n",
    "\n",
    "    # Raise bad request: Loop will stop for bad response code.\n",
    "        request_response.raise_for_status()\n",
    "        request_root = ET.fromstring(request_response.content)\n",
    "        statuslist = []\n",
    "        for status in request_root.findall(\"./requestStatus/\"):\n",
    "            statuslist.append(status.text)\n",
    "        status = statuslist[0]\n",
    "        print('Data request ', page_val, ' is submitting...')\n",
    "        print('Initial request status is ', status)\n",
    "\n",
    "    #Continue loop while request is still processing\n",
    "        while status == 'pending' or status == 'processing': \n",
    "            print('Status is not complete. Trying again.')\n",
    "            time.sleep(10)\n",
    "            loop_response = session.get(statusURL)\n",
    "\n",
    "    # Raise bad request: Loop will stop for bad response code.\n",
    "            loop_response.raise_for_status()\n",
    "            loop_root = ET.fromstring(loop_response.content)\n",
    "\n",
    "    #find status\n",
    "            statuslist = []\n",
    "            for status in loop_root.findall(\"./requestStatus/\"):\n",
    "                statuslist.append(status.text)\n",
    "            status = statuslist[0]\n",
    "            # print('Retry request status is: ', status)\n",
    "            if status == 'pending' or status == 'processing':\n",
    "                continue\n",
    "\n",
    "    #Order can either complete, complete_with_errors, or fail:\n",
    "    # Provide complete_with_errors error message:\n",
    "        if status == 'complete_with_errors' or status == 'failed':\n",
    "            messagelist = []\n",
    "            for message in loop_root.findall(\"./processInfo/\"):\n",
    "                messagelist.append(message.text)\n",
    "            print('error messages:')\n",
    "            pprint.pprint(messagelist)\n",
    "\n",
    "    # Download zipped order if status is complete or complete_with_errors\n",
    "        if status == 'complete' or status == 'complete_with_errors':\n",
    "            for nzip in range(1,5):\n",
    "                try:\n",
    "                    downloadURL = 'https://n5eil02u.ecs.nsidc.org/esir/'  + orderID + '.zip?' +  str(nzip)\n",
    "                    print('Zip download URL: ', downloadURL)\n",
    "                    print('Beginning download of zipped output...')\n",
    "                    zip_response = session.get(downloadURL)\n",
    "                    # Raise bad request: Loop will stop for bad response code.\n",
    "                    zip_response.raise_for_status()\n",
    "                    with zipfile.ZipFile(io.BytesIO(zip_response.content)) as z:\n",
    "                        z.extractall(path)\n",
    "                except:\n",
    "                    continue\n",
    "            print('Data request', page_val, 'is complete.')\n",
    "        else: print('Request failed.')\n",
    "            \n",
    "else:\n",
    "    for i in range(page_num):\n",
    "        page_val = i + 1\n",
    "        print('Order: ', page_val)\n",
    "        print('Requesting...')\n",
    "        request = session.get(base_url, params=param_dict)\n",
    "        print('HTTP response from order response URL: ', request.status_code)\n",
    "        request.raise_for_status()\n",
    "        d = request.headers['content-disposition']\n",
    "        fname = re.findall('filename=(.+)', d)\n",
    "        dirname = os.path.join(path,fname[0].strip('\\\"'))\n",
    "        print('Downloading...')\n",
    "        open(dirname, 'wb').write(request.content)\n",
    "        print('Data request', page_val, 'is complete.')\n",
    "    \n",
    "    # Unzip outputs\n",
    "    for z in os.listdir(path): \n",
    "        if z.endswith('.zip'): \n",
    "            zip_name = path + \"/\" + z \n",
    "            zip_ref = zipfile.ZipFile(zip_name) \n",
    "            zip_ref.extractall(path) \n",
    "            zip_ref.close() \n",
    "            os.remove(zip_name) \n"
   ]
  },
  {
   "cell_type": "markdown",
   "metadata": {},
   "source": [
    "### Finally, we will clean up the Output folder by removing individual order folders:"
   ]
  },
  {
   "cell_type": "code",
   "execution_count": null,
   "metadata": {},
   "outputs": [],
   "source": [
    "# Unzip outputs\n",
    "for z in os.listdir(path): \n",
    "    if z.endswith('.zip'): \n",
    "        zip_name = path + \"/\" + z \n",
    "        zip_ref = zipfile.ZipFile(zip_name) \n",
    "        zip_ref.extractall(path) \n",
    "        zip_ref.close() \n",
    "        os.remove(zip_name) "
   ]
  },
  {
   "cell_type": "code",
   "execution_count": 29,
   "metadata": {},
   "outputs": [],
   "source": [
    "# Clean up Outputs folder by removing individual granule folders \n",
    "\n",
    "for root, dirs, files in os.walk(path, topdown=False):\n",
    "    for file in files:\n",
    "        try:\n",
    "            shutil.move(os.path.join(root, file), path)\n",
    "        except OSError:\n",
    "            pass\n",
    "    for name in dirs:\n",
    "        try:\n",
    "            os.rmdir(os.path.join(root, name))    \n",
    "        except OSError:\n",
    "            pass"
   ]
  },
  {
   "cell_type": "markdown",
   "metadata": {},
   "source": [
    "### To review, we have explored data availability and volume over a region and time of interest, discovered and selected data customization options, constructed an API endpoint for our request, and downloaded data directly to our local machine. You are welcome to request different data sets, areas of interest, and/or customization services by re-running the notebook or starting again at the 'Select a data set of interest' step above. "
   ]
  }
 ],
 "metadata": {
  "kernelspec": {
   "display_name": "base",
   "language": "python",
   "name": "python3"
  },
  "language_info": {
   "codemirror_mode": {
    "name": "ipython",
    "version": 3
   },
   "file_extension": ".py",
   "mimetype": "text/x-python",
   "name": "python",
   "nbconvert_exporter": "python",
   "pygments_lexer": "ipython3",
   "version": "3.9.13"
  },
  "vscode": {
   "interpreter": {
    "hash": "ad2bdc8ecc057115af97d19610ffacc2b4e99fae6737bb82f5d7fb13d2f2c186"
   }
  }
 },
 "nbformat": 4,
 "nbformat_minor": 4
}
