{
 "cells": [
  {
   "cell_type": "markdown",
   "metadata": {},
   "source": [
    "## 1.1 Access SMAP data with Python\n",
    "\n",
    "We will use the popular python `requests` library to bulk download SMAP data.\n",
    "\n",
    "### Bulk data downloads from NSIDC\n",
    "\n",
    "* We are going to do this in python, but you can do this in other languages also.\n",
    "\n",
    "* Click [here](https://nsidc.org/support/faq/what-options-are-available-bulk-downloading-data-https-earthdata-login-enabled) to get additional instructions on bulk data downloads from NSIDC.\n",
    "\n",
    "* SMAP data are available through the following url:\n",
    "    * https://n5eil02u.ecs.nsidc.org/opendap/SMAP/\n",
    "\n",
    "* For these examples, we will use **SPL3SMP version 004**, but the same methdology to access and subset SMAP data will work for any of the products availabe there"
   ]
  },
  {
   "cell_type": "markdown",
   "metadata": {},
   "source": [
    "import packages"
   ]
  },
  {
   "cell_type": "code",
   "execution_count": 1,
   "metadata": {},
   "outputs": [],
   "source": [
    "import calendar\n",
    "import os\n",
    "\n",
    "import requests"
   ]
  },
  {
   "cell_type": "markdown",
   "metadata": {},
   "source": [
    "Create a directory to store our data downloads."
   ]
  },
  {
   "cell_type": "code",
   "execution_count": 2,
   "metadata": {},
   "outputs": [
    {
     "data": {
      "text/plain": [
       "'g:\\\\Araki\\\\SMSigxSMAP\\\\0_code'"
      ]
     },
     "execution_count": 2,
     "metadata": {},
     "output_type": "execute_result"
    }
   ],
   "source": [
    "this_dir = os.getcwd()\n",
    "this_dir"
   ]
  },
  {
   "cell_type": "code",
   "execution_count": 3,
   "metadata": {},
   "outputs": [],
   "source": [
    "DATA_DIR = '../1_data/L3_SM_P'\n",
    "\n",
    "if not os.path.exists(DATA_DIR):\n",
    "    os.makedirs(DATA_DIR)"
   ]
  },
  {
   "cell_type": "markdown",
   "metadata": {},
   "source": [
    "#### Now we will create a function to return the url and filename of the data we want to download.\n",
    "\n",
    "For SMAP we will do this by year, month, and day. The rest of the filename is predictable."
   ]
  },
  {
   "cell_type": "code",
   "execution_count": 15,
   "metadata": {},
   "outputs": [],
   "source": [
    "def SMAP_L3_P_36km_Path(year, month, day):\n",
    "    fpath_start = 'https://n5eil01u.ecs.nsidc.org/SMAP/'\n",
    "    host = 'https://n5eil01u.ecs.nsidc.org/'\n",
    "    version = '.008'\n",
    "    url_path = '{host}SMAP/SPL3SMP{version}/{year}.{month:02}.{day:02}/'.format(host=host,\n",
    "                                                                                 version=version,\n",
    "                                                                                 year=year,\n",
    "                                                                                 month=month,\n",
    "                                                                                 day=day)\n",
    "    filename = 'SMAP_L3_SM_P_{year}{month:02}{day:02}_R18290_001.h5'.format(year=year, \n",
    "                                                                            month=month, \n",
    "                                                                            day=day)\n",
    "\n",
    "    smap_data_path = url_path + filename\n",
    "    \n",
    "    return smap_data_path, filename"
   ]
  },
  {
   "cell_type": "markdown",
   "metadata": {},
   "source": [
    "Add variables for username and password (edit to match your earthdata login credentials).\n",
    "\n",
    "*Note: do not share your username and password with anyone!*"
   ]
  },
  {
   "cell_type": "code",
   "execution_count": 8,
   "metadata": {},
   "outputs": [],
   "source": [
    "import json\n",
    "my_credential_path = \"./auth.json\"\n",
    "with open(my_credential_path, 'r') as infile:\n",
    "    my_credentials = json.load(infile)\n",
    "    \n",
    "uid = my_credentials['username'] # Enter Earthdata Login user name\n",
    "pswd = my_credentials['password'] # Enter Earthdata Login password\n",
    "email = my_credentials['email'] # Enter Earthdata login email "
   ]
  },
  {
   "cell_type": "code",
   "execution_count": 9,
   "metadata": {},
   "outputs": [],
   "source": [
    "# Add Earthdata username and password here.\n",
    "username = uid\n",
    "password = pswd\n",
    "\n",
    "assert username and password, 'You must supply your Earthdata username and password!'"
   ]
  },
  {
   "cell_type": "markdown",
   "metadata": {},
   "source": [
    "Download March 2017 data"
   ]
  },
  {
   "cell_type": "code",
   "execution_count": 17,
   "metadata": {
    "scrolled": true
   },
   "outputs": [],
   "source": [
    "# Download data for March 2017\n",
    "year = 2017\n",
    "month = 3\n",
    "\n",
    "\n",
    "def request_smap(year, month):\n",
    "    # Use a requests session to keep track of authentication credentials\n",
    "    _, days_in_month = calendar.monthrange(year, month)  # 31 days in March 2017\n",
    "    with requests.Session() as session:\n",
    "        session.auth = (username, password)\n",
    "        \n",
    "        for day in range(1, days_in_month + 1):\n",
    "            print('Downloading SMAP data for: '+str(year)+'-'+str(month).zfill(2)+'-'+str(day).zfill(2))\n",
    "\n",
    "            full_path, file_name = SMAP_L3_P_36km_Path(year, month, day)\n",
    "            filepath = os.path.join(DATA_DIR, file_name)\n",
    "            print(full_path)\n",
    "\n",
    "            response = session.get(full_path)\n",
    "\n",
    "            # If the response code is 401, we still need to authorize with earthdata.\n",
    "            if response.status_code == 401:\n",
    "                response = session.get(response.url)\n",
    "                assert response.ok, 'Problem downloading data! Reason: {}'.format(response.reason)\n",
    "\n",
    "            with open(filepath, 'wb') as f:\n",
    "                f.write(response.content)\n",
    "\n",
    "            print(file_name + ' downloaded')\n",
    "            print('*** SM data saved to: '+ filepath +' *** ')"
   ]
  },
  {
   "cell_type": "code",
   "execution_count": 18,
   "metadata": {},
   "outputs": [
    {
     "name": "stdout",
     "output_type": "stream",
     "text": [
      "Downloading SMAP data for: 2015-01-01\n",
      "https://n5eil01u.ecs.nsidc.org/SMAP/SPL3SMP.008/2015.01.01/SMAP_L3_SM_P_20150101_R18290_001.h5\n"
     ]
    },
    {
     "ename": "AssertionError",
     "evalue": "Problem downloading data! Reason: Not Found",
     "output_type": "error",
     "traceback": [
      "\u001b[1;31m---------------------------------------------------------------------------\u001b[0m",
      "\u001b[1;31mAssertionError\u001b[0m                            Traceback (most recent call last)",
      "\u001b[1;32mg:\\Araki\\SMSigxSMAP\\0_code\\1.0 Download SMAP data.ipynb Cell 14\u001b[0m line \u001b[0;36m6\n\u001b[0;32m      <a href='vscode-notebook-cell:/g%3A/Araki/SMSigxSMAP/0_code/1.0%20Download%20SMAP%20data.ipynb#X20sZmlsZQ%3D%3D?line=3'>4</a>\u001b[0m \u001b[39mfor\u001b[39;00m year \u001b[39min\u001b[39;00m years:\n\u001b[0;32m      <a href='vscode-notebook-cell:/g%3A/Araki/SMSigxSMAP/0_code/1.0%20Download%20SMAP%20data.ipynb#X20sZmlsZQ%3D%3D?line=4'>5</a>\u001b[0m     \u001b[39mfor\u001b[39;00m month \u001b[39min\u001b[39;00m months: \n\u001b[1;32m----> <a href='vscode-notebook-cell:/g%3A/Araki/SMSigxSMAP/0_code/1.0%20Download%20SMAP%20data.ipynb#X20sZmlsZQ%3D%3D?line=5'>6</a>\u001b[0m         request_smap(year, month)\n",
      "\u001b[1;32mg:\\Araki\\SMSigxSMAP\\0_code\\1.0 Download SMAP data.ipynb Cell 14\u001b[0m line \u001b[0;36m2\n\u001b[0;32m     <a href='vscode-notebook-cell:/g%3A/Araki/SMSigxSMAP/0_code/1.0%20Download%20SMAP%20data.ipynb#X20sZmlsZQ%3D%3D?line=21'>22</a>\u001b[0m \u001b[39mif\u001b[39;00m response\u001b[39m.\u001b[39mstatus_code \u001b[39m==\u001b[39m \u001b[39m401\u001b[39m:\n\u001b[0;32m     <a href='vscode-notebook-cell:/g%3A/Araki/SMSigxSMAP/0_code/1.0%20Download%20SMAP%20data.ipynb#X20sZmlsZQ%3D%3D?line=22'>23</a>\u001b[0m     response \u001b[39m=\u001b[39m session\u001b[39m.\u001b[39mget(response\u001b[39m.\u001b[39murl)\n\u001b[1;32m---> <a href='vscode-notebook-cell:/g%3A/Araki/SMSigxSMAP/0_code/1.0%20Download%20SMAP%20data.ipynb#X20sZmlsZQ%3D%3D?line=23'>24</a>\u001b[0m \u001b[39massert\u001b[39;00m response\u001b[39m.\u001b[39mok, \u001b[39m'\u001b[39m\u001b[39mProblem downloading data! Reason: \u001b[39m\u001b[39m{}\u001b[39;00m\u001b[39m'\u001b[39m\u001b[39m.\u001b[39mformat(response\u001b[39m.\u001b[39mreason)\n\u001b[0;32m     <a href='vscode-notebook-cell:/g%3A/Araki/SMSigxSMAP/0_code/1.0%20Download%20SMAP%20data.ipynb#X20sZmlsZQ%3D%3D?line=25'>26</a>\u001b[0m \u001b[39mwith\u001b[39;00m \u001b[39mopen\u001b[39m(filepath, \u001b[39m'\u001b[39m\u001b[39mwb\u001b[39m\u001b[39m'\u001b[39m) \u001b[39mas\u001b[39;00m f:\n\u001b[0;32m     <a href='vscode-notebook-cell:/g%3A/Araki/SMSigxSMAP/0_code/1.0%20Download%20SMAP%20data.ipynb#X20sZmlsZQ%3D%3D?line=26'>27</a>\u001b[0m     f\u001b[39m.\u001b[39mwrite(response\u001b[39m.\u001b[39mcontent)\n",
      "\u001b[1;31mAssertionError\u001b[0m: Problem downloading data! Reason: Not Found"
     ]
    }
   ],
   "source": [
    "years = [2015, 2016, 2017, 2018, 2019, 2020, 2021, 2022]\n",
    "months = [1,2,3,4,5,6,7,8,9,10,11,12]\n",
    "\n",
    "for year in years:\n",
    "    for month in months: \n",
    "        try:\n",
    "            request_smap(year, month)\n",
    "        except:\n",
    "            continue"
   ]
  },
  {
   "cell_type": "markdown",
   "metadata": {},
   "source": [
    "### Now you have the tools to download in bulk!\n",
    "\n",
    "**FYI these scripts can take a long time, especially if you are downloading larger files.**\n",
    "* SMAP 36km data are ~ 30MB\n",
    "* SMAP 9km data are ~ 300MB\n",
    "* SMAP 3km data are ~ 2 GB\n",
    "\n",
    "** This is why OPENDAP makes more sense in some cases **"
   ]
  }
 ],
 "metadata": {
  "kernelspec": {
   "display_name": "Python 3",
   "language": "python",
   "name": "python3"
  },
  "language_info": {
   "codemirror_mode": {
    "name": "ipython",
    "version": 3
   },
   "file_extension": ".py",
   "mimetype": "text/x-python",
   "name": "python",
   "nbconvert_exporter": "python",
   "pygments_lexer": "ipython3",
   "version": "3.11.0"
  }
 },
 "nbformat": 4,
 "nbformat_minor": 2
}
